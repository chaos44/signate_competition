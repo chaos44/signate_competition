{
  "nbformat": 4,
  "nbformat_minor": 0,
  "metadata": {
    "colab": {
      "name": "Untitled48.ipynb",
      "provenance": [],
      "toc_visible": true,
      "authorship_tag": "ABX9TyNsmOqoA11OwbmxJkJ7lxp+",
      "include_colab_link": true
    },
    "kernelspec": {
      "name": "python3",
      "display_name": "Python 3"
    }
  },
  "cells": [
    {
      "cell_type": "markdown",
      "metadata": {
        "id": "view-in-github",
        "colab_type": "text"
      },
      "source": [
        "<a href=\"https://colab.research.google.com/github/chaos44/signate_competition/blob/main/ames_kaggle_scaled.ipynb\" target=\"_parent\"><img src=\"https://colab.research.google.com/assets/colab-badge.svg\" alt=\"Open In Colab\"/></a>"
      ]
    },
    {
      "cell_type": "markdown",
      "metadata": {
        "id": "UqEUIXM0hSeV"
      },
      "source": [
        "https://www.kaggle.com/mchatham/ames-housing-regression/comments"
      ]
    },
    {
      "cell_type": "code",
      "metadata": {
        "id": "1bg9OmmphOqP",
        "colab": {
          "base_uri": "https://localhost:8080/"
        },
        "outputId": "205bddf6-3896-4dfc-95d2-2e43a0f22090"
      },
      "source": [
        "!git clone https://github.com/chaos44/signate_competition"
      ],
      "execution_count": 233,
      "outputs": [
        {
          "output_type": "stream",
          "text": [
            "Cloning into 'signate_competition'...\n",
            "remote: Enumerating objects: 27, done.\u001b[K\n",
            "remote: Counting objects: 100% (27/27), done.\u001b[K\n",
            "remote: Compressing objects: 100% (22/22), done.\u001b[K\n",
            "remote: Total 27 (delta 3), reused 7 (delta 1), pack-reused 0\n",
            "Unpacking objects: 100% (27/27), done.\n"
          ],
          "name": "stdout"
        }
      ]
    },
    {
      "cell_type": "code",
      "metadata": {
        "colab": {
          "base_uri": "https://localhost:8080/"
        },
        "id": "Jd1Sldpc2bQr",
        "outputId": "092f373e-9913-415c-f7db-79ec37042dca"
      },
      "source": [
        "cd signate_competition/ams_beginner/"
      ],
      "execution_count": 234,
      "outputs": [
        {
          "output_type": "stream",
          "text": [
            "/content/signate_competition/ams_beginner/signate_competition/ams_beginner/signate_competition/ams_beginner\n"
          ],
          "name": "stdout"
        }
      ]
    },
    {
      "cell_type": "code",
      "metadata": {
        "colab": {
          "base_uri": "https://localhost:8080/"
        },
        "id": "2dpU9W-33Mqz",
        "outputId": "ebb88721-f65e-46ca-9843-16094c075447"
      },
      "source": [
        "ls"
      ],
      "execution_count": 235,
      "outputs": [
        {
          "output_type": "stream",
          "text": [
            "data_description.txt  sample_submit.csv  test.csv  train.csv\n"
          ],
          "name": "stdout"
        }
      ]
    },
    {
      "cell_type": "markdown",
      "metadata": {
        "id": "EwktELoV2_7L"
      },
      "source": [
        "## データ確認"
      ]
    },
    {
      "cell_type": "code",
      "metadata": {
        "id": "e3wU_PXA24DX"
      },
      "source": [
        "import pandas as pd\r\n",
        "import numpy as np\r\n",
        "import seaborn as sns\r\n",
        "import matplotlib.pyplot as plt"
      ],
      "execution_count": 282,
      "outputs": []
    },
    {
      "cell_type": "code",
      "metadata": {
        "id": "Kj6kI0d1aOjI"
      },
      "source": [
        "train = pd.read_csv('train.csv')\r\n",
        "test =  pd.read_csv('test.csv')"
      ],
      "execution_count": 283,
      "outputs": []
    },
    {
      "cell_type": "code",
      "metadata": {
        "id": "ggafknCXJcQi",
        "colab": {
          "base_uri": "https://localhost:8080/"
        },
        "outputId": "ff781b9d-be71-4377-9e10-3dd3b861e61f"
      },
      "source": [
        "print(train.shape)\r\n",
        "print(test.shape)"
      ],
      "execution_count": 284,
      "outputs": [
        {
          "output_type": "stream",
          "text": [
            "(3000, 47)\n",
            "(2000, 46)\n"
          ],
          "name": "stdout"
        }
      ]
    },
    {
      "cell_type": "code",
      "metadata": {
        "id": "NVS2p3cgacfy"
      },
      "source": [
        "test['SalePrice'] = np.nan\r\n",
        "df = pd.concat([train, test], axis=0)\r\n",
        "train_ids = train['index']\r\n",
        "test_ids = test['index']"
      ],
      "execution_count": 285,
      "outputs": []
    },
    {
      "cell_type": "code",
      "metadata": {
        "id": "TUUWNzOPaiO4",
        "colab": {
          "base_uri": "https://localhost:8080/",
          "height": 261
        },
        "outputId": "1ea6c576-dc12-429e-93b1-16bf0598faa7"
      },
      "source": [
        "df.head()"
      ],
      "execution_count": 286,
      "outputs": [
        {
          "output_type": "execute_result",
          "data": {
            "text/html": [
              "<div>\n",
              "<style scoped>\n",
              "    .dataframe tbody tr th:only-of-type {\n",
              "        vertical-align: middle;\n",
              "    }\n",
              "\n",
              "    .dataframe tbody tr th {\n",
              "        vertical-align: top;\n",
              "    }\n",
              "\n",
              "    .dataframe thead th {\n",
              "        text-align: right;\n",
              "    }\n",
              "</style>\n",
              "<table border=\"1\" class=\"dataframe\">\n",
              "  <thead>\n",
              "    <tr style=\"text-align: right;\">\n",
              "      <th></th>\n",
              "      <th>index</th>\n",
              "      <th>Order</th>\n",
              "      <th>MS SubClass</th>\n",
              "      <th>MS Zoning</th>\n",
              "      <th>Lot Area</th>\n",
              "      <th>Lot Shape</th>\n",
              "      <th>Land Contour</th>\n",
              "      <th>Lot Config</th>\n",
              "      <th>Neighborhood</th>\n",
              "      <th>Bldg Type</th>\n",
              "      <th>House Style</th>\n",
              "      <th>Overall Qual</th>\n",
              "      <th>Overall Cond</th>\n",
              "      <th>Year Built</th>\n",
              "      <th>Year Remod/Add</th>\n",
              "      <th>Roof Style</th>\n",
              "      <th>Exterior 1st</th>\n",
              "      <th>Exterior 2nd</th>\n",
              "      <th>Exter Qual</th>\n",
              "      <th>Foundation</th>\n",
              "      <th>BsmtFin SF 1</th>\n",
              "      <th>Bsmt Unf SF</th>\n",
              "      <th>Total Bsmt SF</th>\n",
              "      <th>Heating QC</th>\n",
              "      <th>Central Air</th>\n",
              "      <th>Electrical</th>\n",
              "      <th>1st Flr SF</th>\n",
              "      <th>2nd Flr SF</th>\n",
              "      <th>Gr Liv Area</th>\n",
              "      <th>Bsmt Full Bath</th>\n",
              "      <th>Full Bath</th>\n",
              "      <th>Half Bath</th>\n",
              "      <th>Bedroom AbvGr</th>\n",
              "      <th>Kitchen AbvGr</th>\n",
              "      <th>Kitchen Qual</th>\n",
              "      <th>TotRms AbvGrd</th>\n",
              "      <th>Fireplaces</th>\n",
              "      <th>Garage Cars</th>\n",
              "      <th>Garage Area</th>\n",
              "      <th>Paved Drive</th>\n",
              "      <th>Wood Deck SF</th>\n",
              "      <th>Open Porch SF</th>\n",
              "      <th>Mo Sold</th>\n",
              "      <th>Yr Sold</th>\n",
              "      <th>Sale Type</th>\n",
              "      <th>Sale Condition</th>\n",
              "      <th>SalePrice</th>\n",
              "    </tr>\n",
              "  </thead>\n",
              "  <tbody>\n",
              "    <tr>\n",
              "      <th>0</th>\n",
              "      <td>200</td>\n",
              "      <td>2163</td>\n",
              "      <td>20</td>\n",
              "      <td>RL</td>\n",
              "      <td>9000</td>\n",
              "      <td>Reg</td>\n",
              "      <td>Lvl</td>\n",
              "      <td>Inside</td>\n",
              "      <td>NAmes</td>\n",
              "      <td>1Fam</td>\n",
              "      <td>1Story</td>\n",
              "      <td>5</td>\n",
              "      <td>5</td>\n",
              "      <td>1963</td>\n",
              "      <td>1950</td>\n",
              "      <td>Gable</td>\n",
              "      <td>VinylSd</td>\n",
              "      <td>VinylSd</td>\n",
              "      <td>TA</td>\n",
              "      <td>CBlock</td>\n",
              "      <td>554.725259</td>\n",
              "      <td>490.862838</td>\n",
              "      <td>620.339061</td>\n",
              "      <td>Ex</td>\n",
              "      <td>Y</td>\n",
              "      <td>SBrkr</td>\n",
              "      <td>941</td>\n",
              "      <td>0</td>\n",
              "      <td>2358</td>\n",
              "      <td>1.001999</td>\n",
              "      <td>2</td>\n",
              "      <td>0</td>\n",
              "      <td>3</td>\n",
              "      <td>1</td>\n",
              "      <td>TA</td>\n",
              "      <td>5</td>\n",
              "      <td>0</td>\n",
              "      <td>1.998003</td>\n",
              "      <td>381.014258</td>\n",
              "      <td>Y</td>\n",
              "      <td>0</td>\n",
              "      <td>0</td>\n",
              "      <td>7</td>\n",
              "      <td>2007</td>\n",
              "      <td>WD</td>\n",
              "      <td>Normal</td>\n",
              "      <td>158000.0</td>\n",
              "    </tr>\n",
              "    <tr>\n",
              "      <th>1</th>\n",
              "      <td>3832</td>\n",
              "      <td>1862</td>\n",
              "      <td>20</td>\n",
              "      <td>RL</td>\n",
              "      <td>9600</td>\n",
              "      <td>Reg</td>\n",
              "      <td>Lvl</td>\n",
              "      <td>Inside</td>\n",
              "      <td>CollgCr</td>\n",
              "      <td>1Fam</td>\n",
              "      <td>1Story</td>\n",
              "      <td>7</td>\n",
              "      <td>5</td>\n",
              "      <td>2006</td>\n",
              "      <td>2006</td>\n",
              "      <td>Gable</td>\n",
              "      <td>VinylSd</td>\n",
              "      <td>VinylSd</td>\n",
              "      <td>Gd</td>\n",
              "      <td>PConc</td>\n",
              "      <td>514.217911</td>\n",
              "      <td>1711.943709</td>\n",
              "      <td>1286.011022</td>\n",
              "      <td>Ex</td>\n",
              "      <td>Y</td>\n",
              "      <td>SBrkr</td>\n",
              "      <td>894</td>\n",
              "      <td>0</td>\n",
              "      <td>1040</td>\n",
              "      <td>0.002000</td>\n",
              "      <td>2</td>\n",
              "      <td>0</td>\n",
              "      <td>3</td>\n",
              "      <td>1</td>\n",
              "      <td>Gd</td>\n",
              "      <td>6</td>\n",
              "      <td>0</td>\n",
              "      <td>1.998003</td>\n",
              "      <td>384.114652</td>\n",
              "      <td>Y</td>\n",
              "      <td>0</td>\n",
              "      <td>0</td>\n",
              "      <td>11</td>\n",
              "      <td>2007</td>\n",
              "      <td>WD</td>\n",
              "      <td>Normal</td>\n",
              "      <td>145000.0</td>\n",
              "    </tr>\n",
              "    <tr>\n",
              "      <th>2</th>\n",
              "      <td>4927</td>\n",
              "      <td>754</td>\n",
              "      <td>20</td>\n",
              "      <td>RL</td>\n",
              "      <td>9600</td>\n",
              "      <td>Reg</td>\n",
              "      <td>Lvl</td>\n",
              "      <td>Inside</td>\n",
              "      <td>NridgHt</td>\n",
              "      <td>1Fam</td>\n",
              "      <td>1Story</td>\n",
              "      <td>9</td>\n",
              "      <td>5</td>\n",
              "      <td>2007</td>\n",
              "      <td>2007</td>\n",
              "      <td>Hip</td>\n",
              "      <td>VinylSd</td>\n",
              "      <td>VinylSd</td>\n",
              "      <td>Gd</td>\n",
              "      <td>PConc</td>\n",
              "      <td>1596.991227</td>\n",
              "      <td>511.217197</td>\n",
              "      <td>1341.741207</td>\n",
              "      <td>Ex</td>\n",
              "      <td>Y</td>\n",
              "      <td>SBrkr</td>\n",
              "      <td>864</td>\n",
              "      <td>0</td>\n",
              "      <td>864</td>\n",
              "      <td>1.001999</td>\n",
              "      <td>2</td>\n",
              "      <td>0</td>\n",
              "      <td>3</td>\n",
              "      <td>1</td>\n",
              "      <td>Gd</td>\n",
              "      <td>7</td>\n",
              "      <td>1</td>\n",
              "      <td>2.998015</td>\n",
              "      <td>625.140330</td>\n",
              "      <td>Y</td>\n",
              "      <td>0</td>\n",
              "      <td>0</td>\n",
              "      <td>5</td>\n",
              "      <td>2008</td>\n",
              "      <td>WD</td>\n",
              "      <td>Normal</td>\n",
              "      <td>125000.0</td>\n",
              "    </tr>\n",
              "    <tr>\n",
              "      <th>3</th>\n",
              "      <td>4088</td>\n",
              "      <td>641</td>\n",
              "      <td>80</td>\n",
              "      <td>RL</td>\n",
              "      <td>9600</td>\n",
              "      <td>Reg</td>\n",
              "      <td>Lvl</td>\n",
              "      <td>Inside</td>\n",
              "      <td>OldTown</td>\n",
              "      <td>1Fam</td>\n",
              "      <td>SLvl</td>\n",
              "      <td>6</td>\n",
              "      <td>6</td>\n",
              "      <td>1976</td>\n",
              "      <td>1950</td>\n",
              "      <td>Gable</td>\n",
              "      <td>VinylSd</td>\n",
              "      <td>Plywood</td>\n",
              "      <td>TA</td>\n",
              "      <td>CBlock</td>\n",
              "      <td>586.182353</td>\n",
              "      <td>469.685845</td>\n",
              "      <td>566.069609</td>\n",
              "      <td>Gd</td>\n",
              "      <td>Y</td>\n",
              "      <td>SBrkr</td>\n",
              "      <td>864</td>\n",
              "      <td>0</td>\n",
              "      <td>864</td>\n",
              "      <td>0.002000</td>\n",
              "      <td>1</td>\n",
              "      <td>0</td>\n",
              "      <td>3</td>\n",
              "      <td>1</td>\n",
              "      <td>TA</td>\n",
              "      <td>6</td>\n",
              "      <td>0</td>\n",
              "      <td>0.998002</td>\n",
              "      <td>193.156275</td>\n",
              "      <td>Y</td>\n",
              "      <td>0</td>\n",
              "      <td>0</td>\n",
              "      <td>7</td>\n",
              "      <td>2006</td>\n",
              "      <td>WD</td>\n",
              "      <td>Normal</td>\n",
              "      <td>135000.0</td>\n",
              "    </tr>\n",
              "    <tr>\n",
              "      <th>4</th>\n",
              "      <td>3644</td>\n",
              "      <td>754</td>\n",
              "      <td>20</td>\n",
              "      <td>RL</td>\n",
              "      <td>9600</td>\n",
              "      <td>Reg</td>\n",
              "      <td>Lvl</td>\n",
              "      <td>Inside</td>\n",
              "      <td>NoRidge</td>\n",
              "      <td>1Fam</td>\n",
              "      <td>1Story</td>\n",
              "      <td>7</td>\n",
              "      <td>5</td>\n",
              "      <td>1994</td>\n",
              "      <td>2002</td>\n",
              "      <td>Gable</td>\n",
              "      <td>VinylSd</td>\n",
              "      <td>VinylSd</td>\n",
              "      <td>Gd</td>\n",
              "      <td>PConc</td>\n",
              "      <td>1589.946047</td>\n",
              "      <td>484.337352</td>\n",
              "      <td>1258.013116</td>\n",
              "      <td>Ex</td>\n",
              "      <td>Y</td>\n",
              "      <td>SBrkr</td>\n",
              "      <td>832</td>\n",
              "      <td>0</td>\n",
              "      <td>1040</td>\n",
              "      <td>1.001998</td>\n",
              "      <td>2</td>\n",
              "      <td>0</td>\n",
              "      <td>3</td>\n",
              "      <td>1</td>\n",
              "      <td>Gd</td>\n",
              "      <td>7</td>\n",
              "      <td>1</td>\n",
              "      <td>2.998012</td>\n",
              "      <td>617.903766</td>\n",
              "      <td>Y</td>\n",
              "      <td>0</td>\n",
              "      <td>0</td>\n",
              "      <td>7</td>\n",
              "      <td>2007</td>\n",
              "      <td>WD</td>\n",
              "      <td>Normal</td>\n",
              "      <td>175000.0</td>\n",
              "    </tr>\n",
              "  </tbody>\n",
              "</table>\n",
              "</div>"
            ],
            "text/plain": [
              "   index  Order  MS SubClass  ... Sale Type  Sale Condition SalePrice\n",
              "0    200   2163           20  ...       WD           Normal  158000.0\n",
              "1   3832   1862           20  ...       WD           Normal  145000.0\n",
              "2   4927    754           20  ...       WD           Normal  125000.0\n",
              "3   4088    641           80  ...       WD           Normal  135000.0\n",
              "4   3644    754           20  ...       WD           Normal  175000.0\n",
              "\n",
              "[5 rows x 47 columns]"
            ]
          },
          "metadata": {
            "tags": []
          },
          "execution_count": 286
        }
      ]
    },
    {
      "cell_type": "code",
      "metadata": {
        "id": "5zCtRIOeawmR",
        "colab": {
          "base_uri": "https://localhost:8080/"
        },
        "outputId": "27473084-3e29-4c47-b580-cb23689b764f"
      },
      "source": [
        "df.shape"
      ],
      "execution_count": 287,
      "outputs": [
        {
          "output_type": "execute_result",
          "data": {
            "text/plain": [
              "(5000, 47)"
            ]
          },
          "metadata": {
            "tags": []
          },
          "execution_count": 287
        }
      ]
    },
    {
      "cell_type": "code",
      "metadata": {
        "id": "ZPYpVN8Ta3AB",
        "colab": {
          "base_uri": "https://localhost:8080/"
        },
        "outputId": "ce2a57b1-93a5-4657-a5bd-f9dd34094ecf"
      },
      "source": [
        "print('Data from years {} to {}.'.format(df['Yr Sold'].min(), df['Yr Sold'].max()))"
      ],
      "execution_count": 288,
      "outputs": [
        {
          "output_type": "stream",
          "text": [
            "Data from years 2006 to 2010.\n"
          ],
          "name": "stdout"
        }
      ]
    },
    {
      "cell_type": "markdown",
      "metadata": {
        "id": "L_vOFGkdbmXn"
      },
      "source": [
        "\r\n",
        "Some info about Ames, Iowa\r\n",
        "\r\n",
        "    Population: 66,191 in 2016, in the top ten for the state of Iowa.\r\n",
        "    Density: 2,436/mi2\r\n",
        "\r\n",
        "    Major employers: State/federal agencies\r\n",
        "    Ranked in the top 15 \"Cities that have done the best since the recession\" by Bloomberg\r\n",
        "    Unemployment: Ranked along with Boulder, CO as lowest unemployment rate in 2016.\r\n",
        "\r\n",
        "Ames is a moderately-sized town smack-dab in the middle of Iowa, containing Iowa State University (ISU) and nestled between the state's major east-west and north-south highways. ISU employs almost 16,000 of the states 66,00 residents. The Iowa DoT is located in the city. Finally, Ames sees a lot of political activity by virtue of its being in Iowa. According to Wikipedia, the Ames Straw Poll was held in the city from 1979 through 2011 before being cancelled."
      ]
    },
    {
      "cell_type": "code",
      "metadata": {
        "id": "XsfKXNIHbCce",
        "colab": {
          "base_uri": "https://localhost:8080/"
        },
        "outputId": "9c738f8e-5e03-464d-a7b0-ca7b34d4f18b"
      },
      "source": [
        "sns.set()\r\n",
        "df.columns"
      ],
      "execution_count": 289,
      "outputs": [
        {
          "output_type": "execute_result",
          "data": {
            "text/plain": [
              "Index(['index', 'Order', 'MS SubClass', 'MS Zoning', 'Lot Area', 'Lot Shape',\n",
              "       'Land Contour', 'Lot Config', 'Neighborhood', 'Bldg Type',\n",
              "       'House Style', 'Overall Qual', 'Overall Cond', 'Year Built',\n",
              "       'Year Remod/Add', 'Roof Style', 'Exterior 1st', 'Exterior 2nd',\n",
              "       'Exter Qual', 'Foundation', 'BsmtFin SF 1', 'Bsmt Unf SF',\n",
              "       'Total Bsmt SF', 'Heating QC', 'Central Air', 'Electrical',\n",
              "       '1st Flr SF', '2nd Flr SF', 'Gr Liv Area', 'Bsmt Full Bath',\n",
              "       'Full Bath', 'Half Bath', 'Bedroom AbvGr', 'Kitchen AbvGr',\n",
              "       'Kitchen Qual', 'TotRms AbvGrd', 'Fireplaces', 'Garage Cars',\n",
              "       'Garage Area', 'Paved Drive', 'Wood Deck SF', 'Open Porch SF',\n",
              "       'Mo Sold', 'Yr Sold', 'Sale Type', 'Sale Condition', 'SalePrice'],\n",
              "      dtype='object')"
            ]
          },
          "metadata": {
            "tags": []
          },
          "execution_count": 289
        }
      ]
    },
    {
      "cell_type": "code",
      "metadata": {
        "id": "TvbZv_8RbEHo",
        "colab": {
          "base_uri": "https://localhost:8080/",
          "height": 302
        },
        "outputId": "f501ce3a-20eb-456a-9494-8538d68c68e2"
      },
      "source": [
        "sns.boxplot(x=df['Yr Sold'], y=df['SalePrice'])"
      ],
      "execution_count": 290,
      "outputs": [
        {
          "output_type": "execute_result",
          "data": {
            "text/plain": [
              "<matplotlib.axes._subplots.AxesSubplot at 0x7f8f56539e80>"
            ]
          },
          "metadata": {
            "tags": []
          },
          "execution_count": 290
        },
        {
          "output_type": "display_data",
          "data": {
            "image/png": "[encoded data removed]",
            "text/plain": [
              "<Figure size 432x288 with 1 Axes>"
            ]
          },
          "metadata": {
            "tags": []
          }
        }
      ]
    },
    {
      "cell_type": "code",
      "metadata": {
        "id": "zJ57NmWscanQ",
        "colab": {
          "base_uri": "https://localhost:8080/",
          "height": 340
        },
        "outputId": "f2f82a30-3d3b-4b01-f279-3dd6062975bf"
      },
      "source": [
        "data = pd.concat(\r\n",
        "    [\r\n",
        "        df.groupby('Neighborhood').mean()['SalePrice'],\r\n",
        "        df.groupby('Neighborhood').count()['index']\r\n",
        "    ], \r\n",
        "    \r\n",
        "    axis=1)\r\n",
        "f, ax = plt.subplots()\r\n",
        "sns.stripplot(data.sort_values(by='SalePrice').SalePrice, data.sort_values(by='SalePrice').index, orient='h', color='red');\r\n",
        "# sns.stripplot(data.sort_values(by='Id').Id, data.sort_values(by='Id').index, orient='h', color='red')"
      ],
      "execution_count": 291,
      "outputs": [
        {
          "output_type": "stream",
          "text": [
            "/usr/local/lib/python3.6/dist-packages/seaborn/_decorators.py:43: FutureWarning: Pass the following variables as keyword args: x, y. From version 0.12, the only valid positional argument will be `data`, and passing other arguments without an explicit keyword will result in an error or misinterpretation.\n",
            "  FutureWarning\n"
          ],
          "name": "stderr"
        },
        {
          "output_type": "display_data",
          "data": {
            "image/png": "[encoded data removed]",
            "text/plain": [
              "<Figure size 432x288 with 1 Axes>"
            ]
          },
          "metadata": {
            "tags": []
          }
        }
      ]
    },
    {
      "cell_type": "markdown",
      "metadata": {
        "id": "3mDwzgiBdK7Q"
      },
      "source": [
        "Interestingly, I see four clusters of neighborhoods above.\r\n",
        "\r\n",
        "    Neighborhood 1: MeadowV:BrDale\r\n",
        "    Neighborhood 2: BrkSide:Mitchel\r\n",
        "    Neighborhood 3: SawyerW:Veenker\r\n",
        "    Neighborhood 4: Timber:NoRidge\r\n"
      ]
    },
    {
      "cell_type": "code",
      "metadata": {
        "id": "QvJozZF5dNAS",
        "colab": {
          "base_uri": "https://localhost:8080/",
          "height": 340
        },
        "outputId": "d699074b-bddc-4430-893c-415cb823e078"
      },
      "source": [
        "sorted_corrs = df.corr()['SalePrice'].apply(np.abs).sort_values(ascending=False)\r\n",
        "sns.stripplot(sorted_corrs, sorted_corrs.index, orient='h');"
      ],
      "execution_count": 292,
      "outputs": [
        {
          "output_type": "stream",
          "text": [
            "/usr/local/lib/python3.6/dist-packages/seaborn/_decorators.py:43: FutureWarning: Pass the following variables as keyword args: x, y. From version 0.12, the only valid positional argument will be `data`, and passing other arguments without an explicit keyword will result in an error or misinterpretation.\n",
            "  FutureWarning\n"
          ],
          "name": "stderr"
        },
        {
          "output_type": "display_data",
          "data": {
            "image/png": "[encoded data removed]",
            "text/plain": [
              "<Figure size 432x288 with 1 Axes>"
            ]
          },
          "metadata": {
            "tags": []
          }
        }
      ]
    },
    {
      "cell_type": "code",
      "metadata": {
        "id": "SZERlBKIdmhP",
        "colab": {
          "base_uri": "https://localhost:8080/"
        },
        "outputId": "850a6c17-77d8-4226-c405-cdaaec35ecc9"
      },
      "source": [
        "from sklearn. preprocessing import LabelEncoder\r\n",
        "\r\n",
        "categories = df.columns[df.dtypes == \"object\"]\r\n",
        "categories"
      ],
      "execution_count": 293,
      "outputs": [
        {
          "output_type": "execute_result",
          "data": {
            "text/plain": [
              "Index(['MS Zoning', 'Lot Shape', 'Land Contour', 'Lot Config', 'Neighborhood',\n",
              "       'Bldg Type', 'House Style', 'Roof Style', 'Exterior 1st',\n",
              "       'Exterior 2nd', 'Exter Qual', 'Foundation', 'Heating QC', 'Central Air',\n",
              "       'Electrical', 'Kitchen Qual', 'Paved Drive', 'Sale Type',\n",
              "       'Sale Condition'],\n",
              "      dtype='object')"
            ]
          },
          "metadata": {
            "tags": []
          },
          "execution_count": 293
        }
      ]
    },
    {
      "cell_type": "code",
      "metadata": {
        "id": "a8tmWyWBlbgR",
        "colab": {
          "base_uri": "https://localhost:8080/"
        },
        "outputId": "f10e3af0-2855-4d24-8893-c93104e79e4e"
      },
      "source": [
        "for cat in categories: \r\n",
        "    le = LabelEncoder() \r\n",
        "    print(cat) \r\n",
        "    if df[cat].dtypes == \"object\": \r\n",
        "        le = le. fit(df[cat])\r\n",
        "        df[cat] = le.transform(df[cat])"
      ],
      "execution_count": 294,
      "outputs": [
        {
          "output_type": "stream",
          "text": [
            "MS Zoning\n",
            "Lot Shape\n",
            "Land Contour\n",
            "Lot Config\n",
            "Neighborhood\n",
            "Bldg Type\n",
            "House Style\n",
            "Roof Style\n",
            "Exterior 1st\n",
            "Exterior 2nd\n",
            "Exter Qual\n",
            "Foundation\n",
            "Heating QC\n",
            "Central Air\n",
            "Electrical\n",
            "Kitchen Qual\n",
            "Paved Drive\n",
            "Sale Type\n",
            "Sale Condition\n"
          ],
          "name": "stdout"
        }
      ]
    },
    {
      "cell_type": "code",
      "metadata": {
        "id": "Xx7Q_S9-loTV"
      },
      "source": [
        "train_df_le = df[~df[\"SalePrice\"].isnull()]\r\n",
        "test_df_le = df[df[\"SalePrice\"].isnull()]"
      ],
      "execution_count": 345,
      "outputs": []
    },
    {
      "cell_type": "code",
      "metadata": {
        "id": "_KN-vvxP32DZ"
      },
      "source": [
        "# データの正規化 no3794\r\n",
        "# from sklearn import preprocessing\r\n",
        "\r\n",
        "# train_df_le_scale = preprocessing.scale(train_df_le_tmp.drop(['index', 'Order'], axis = 1))\r\n",
        "# test_df_le_scale = preprocessing.scale(test_df_le_tmp.drop(['index', 'Order'], axis = 1))"
      ],
      "execution_count": 346,
      "outputs": []
    },
    {
      "cell_type": "code",
      "metadata": {
        "id": "IYhdPMbH7K_r"
      },
      "source": [
        "# np.array形式をDataFrame形式に戻す処理\r\n",
        "# train_df_le = pd.DataFrame(train_df_le_scale)\r\n",
        "# train_df_le.columns = train_df_le_tmp.drop(['index', 'Order'], axis = 1).columns\r\n",
        "\r\n",
        "# test_df_le = pd.DataFrame(test_df_le_scale)\r\n",
        "# test_df_le.columns = test_df_le_tmp.drop(['index', 'Order'], axis = 1).columns"
      ],
      "execution_count": 347,
      "outputs": []
    },
    {
      "cell_type": "code",
      "metadata": {
        "id": "RvNyg6ccoQ7x"
      },
      "source": [
        "import lightgbm as lgb"
      ],
      "execution_count": 348,
      "outputs": []
    },
    {
      "cell_type": "code",
      "metadata": {
        "id": "IKmMa9DvltYL"
      },
      "source": [
        "from sklearn.model_selection import KFold \r\n",
        "folds = 3 \r\n",
        "kf = KFold(n_splits = folds)"
      ],
      "execution_count": 349,
      "outputs": []
    },
    {
      "cell_type": "code",
      "metadata": {
        "id": "inTTQCHimNnz"
      },
      "source": [
        "lgbm_params = { \"objective\" :\"regression\", \"random_SEED\" : 1234 }\r\n",
        "# コンペの評価基準はrmseなので、rmseを使うことで点数は上がるかどうかは要テスト\r\n",
        "# lgbm_params = { \"metric\" :\"rmse\", \"random_SEED\" : 4321 }"
      ],
      "execution_count": 350,
      "outputs": []
    },
    {
      "cell_type": "code",
      "metadata": {
        "id": "gBH1uk5h8GWb",
        "outputId": "74353f46-9976-4374-991b-a10934339612",
        "colab": {
          "base_uri": "https://localhost:8080/",
          "height": 479
        }
      },
      "source": [
        "train_df_le"
      ],
      "execution_count": 351,
      "outputs": [
        {
          "output_type": "execute_result",
          "data": {
            "text/html": [
              "<div>\n",
              "<style scoped>\n",
              "    .dataframe tbody tr th:only-of-type {\n",
              "        vertical-align: middle;\n",
              "    }\n",
              "\n",
              "    .dataframe tbody tr th {\n",
              "        vertical-align: top;\n",
              "    }\n",
              "\n",
              "    .dataframe thead th {\n",
              "        text-align: right;\n",
              "    }\n",
              "</style>\n",
              "<table border=\"1\" class=\"dataframe\">\n",
              "  <thead>\n",
              "    <tr style=\"text-align: right;\">\n",
              "      <th></th>\n",
              "      <th>index</th>\n",
              "      <th>Order</th>\n",
              "      <th>MS SubClass</th>\n",
              "      <th>MS Zoning</th>\n",
              "      <th>Lot Area</th>\n",
              "      <th>Lot Shape</th>\n",
              "      <th>Land Contour</th>\n",
              "      <th>Lot Config</th>\n",
              "      <th>Neighborhood</th>\n",
              "      <th>Bldg Type</th>\n",
              "      <th>House Style</th>\n",
              "      <th>Overall Qual</th>\n",
              "      <th>Overall Cond</th>\n",
              "      <th>Year Built</th>\n",
              "      <th>Year Remod/Add</th>\n",
              "      <th>Roof Style</th>\n",
              "      <th>Exterior 1st</th>\n",
              "      <th>Exterior 2nd</th>\n",
              "      <th>Exter Qual</th>\n",
              "      <th>Foundation</th>\n",
              "      <th>BsmtFin SF 1</th>\n",
              "      <th>Bsmt Unf SF</th>\n",
              "      <th>Total Bsmt SF</th>\n",
              "      <th>Heating QC</th>\n",
              "      <th>Central Air</th>\n",
              "      <th>Electrical</th>\n",
              "      <th>1st Flr SF</th>\n",
              "      <th>2nd Flr SF</th>\n",
              "      <th>Gr Liv Area</th>\n",
              "      <th>Bsmt Full Bath</th>\n",
              "      <th>Full Bath</th>\n",
              "      <th>Half Bath</th>\n",
              "      <th>Bedroom AbvGr</th>\n",
              "      <th>Kitchen AbvGr</th>\n",
              "      <th>Kitchen Qual</th>\n",
              "      <th>TotRms AbvGrd</th>\n",
              "      <th>Fireplaces</th>\n",
              "      <th>Garage Cars</th>\n",
              "      <th>Garage Area</th>\n",
              "      <th>Paved Drive</th>\n",
              "      <th>Wood Deck SF</th>\n",
              "      <th>Open Porch SF</th>\n",
              "      <th>Mo Sold</th>\n",
              "      <th>Yr Sold</th>\n",
              "      <th>Sale Type</th>\n",
              "      <th>Sale Condition</th>\n",
              "      <th>SalePrice</th>\n",
              "    </tr>\n",
              "  </thead>\n",
              "  <tbody>\n",
              "    <tr>\n",
              "      <th>0</th>\n",
              "      <td>200</td>\n",
              "      <td>2163</td>\n",
              "      <td>20</td>\n",
              "      <td>1</td>\n",
              "      <td>9000</td>\n",
              "      <td>1</td>\n",
              "      <td>2</td>\n",
              "      <td>2</td>\n",
              "      <td>11</td>\n",
              "      <td>0</td>\n",
              "      <td>1</td>\n",
              "      <td>5</td>\n",
              "      <td>5</td>\n",
              "      <td>1963</td>\n",
              "      <td>1950</td>\n",
              "      <td>0</td>\n",
              "      <td>6</td>\n",
              "      <td>7</td>\n",
              "      <td>2</td>\n",
              "      <td>1</td>\n",
              "      <td>554.725259</td>\n",
              "      <td>490.862838</td>\n",
              "      <td>620.339061</td>\n",
              "      <td>0</td>\n",
              "      <td>1</td>\n",
              "      <td>2</td>\n",
              "      <td>941</td>\n",
              "      <td>0</td>\n",
              "      <td>2358</td>\n",
              "      <td>1.001999</td>\n",
              "      <td>2</td>\n",
              "      <td>0</td>\n",
              "      <td>3</td>\n",
              "      <td>1</td>\n",
              "      <td>3</td>\n",
              "      <td>5</td>\n",
              "      <td>0</td>\n",
              "      <td>1.998003</td>\n",
              "      <td>381.014258</td>\n",
              "      <td>1</td>\n",
              "      <td>0</td>\n",
              "      <td>0</td>\n",
              "      <td>7</td>\n",
              "      <td>2007</td>\n",
              "      <td>1</td>\n",
              "      <td>0</td>\n",
              "      <td>158000.0</td>\n",
              "    </tr>\n",
              "    <tr>\n",
              "      <th>1</th>\n",
              "      <td>3832</td>\n",
              "      <td>1862</td>\n",
              "      <td>20</td>\n",
              "      <td>1</td>\n",
              "      <td>9600</td>\n",
              "      <td>1</td>\n",
              "      <td>2</td>\n",
              "      <td>2</td>\n",
              "      <td>4</td>\n",
              "      <td>0</td>\n",
              "      <td>1</td>\n",
              "      <td>7</td>\n",
              "      <td>5</td>\n",
              "      <td>2006</td>\n",
              "      <td>2006</td>\n",
              "      <td>0</td>\n",
              "      <td>6</td>\n",
              "      <td>7</td>\n",
              "      <td>1</td>\n",
              "      <td>2</td>\n",
              "      <td>514.217911</td>\n",
              "      <td>1711.943709</td>\n",
              "      <td>1286.011022</td>\n",
              "      <td>0</td>\n",
              "      <td>1</td>\n",
              "      <td>2</td>\n",
              "      <td>894</td>\n",
              "      <td>0</td>\n",
              "      <td>1040</td>\n",
              "      <td>0.002000</td>\n",
              "      <td>2</td>\n",
              "      <td>0</td>\n",
              "      <td>3</td>\n",
              "      <td>1</td>\n",
              "      <td>2</td>\n",
              "      <td>6</td>\n",
              "      <td>0</td>\n",
              "      <td>1.998003</td>\n",
              "      <td>384.114652</td>\n",
              "      <td>1</td>\n",
              "      <td>0</td>\n",
              "      <td>0</td>\n",
              "      <td>11</td>\n",
              "      <td>2007</td>\n",
              "      <td>1</td>\n",
              "      <td>0</td>\n",
              "      <td>145000.0</td>\n",
              "    </tr>\n",
              "    <tr>\n",
              "      <th>2</th>\n",
              "      <td>4927</td>\n",
              "      <td>754</td>\n",
              "      <td>20</td>\n",
              "      <td>1</td>\n",
              "      <td>9600</td>\n",
              "      <td>1</td>\n",
              "      <td>2</td>\n",
              "      <td>2</td>\n",
              "      <td>15</td>\n",
              "      <td>0</td>\n",
              "      <td>1</td>\n",
              "      <td>9</td>\n",
              "      <td>5</td>\n",
              "      <td>2007</td>\n",
              "      <td>2007</td>\n",
              "      <td>1</td>\n",
              "      <td>6</td>\n",
              "      <td>7</td>\n",
              "      <td>1</td>\n",
              "      <td>2</td>\n",
              "      <td>1596.991227</td>\n",
              "      <td>511.217197</td>\n",
              "      <td>1341.741207</td>\n",
              "      <td>0</td>\n",
              "      <td>1</td>\n",
              "      <td>2</td>\n",
              "      <td>864</td>\n",
              "      <td>0</td>\n",
              "      <td>864</td>\n",
              "      <td>1.001999</td>\n",
              "      <td>2</td>\n",
              "      <td>0</td>\n",
              "      <td>3</td>\n",
              "      <td>1</td>\n",
              "      <td>2</td>\n",
              "      <td>7</td>\n",
              "      <td>1</td>\n",
              "      <td>2.998015</td>\n",
              "      <td>625.140330</td>\n",
              "      <td>1</td>\n",
              "      <td>0</td>\n",
              "      <td>0</td>\n",
              "      <td>5</td>\n",
              "      <td>2008</td>\n",
              "      <td>1</td>\n",
              "      <td>0</td>\n",
              "      <td>125000.0</td>\n",
              "    </tr>\n",
              "    <tr>\n",
              "      <th>3</th>\n",
              "      <td>4088</td>\n",
              "      <td>641</td>\n",
              "      <td>80</td>\n",
              "      <td>1</td>\n",
              "      <td>9600</td>\n",
              "      <td>1</td>\n",
              "      <td>2</td>\n",
              "      <td>2</td>\n",
              "      <td>16</td>\n",
              "      <td>0</td>\n",
              "      <td>4</td>\n",
              "      <td>6</td>\n",
              "      <td>6</td>\n",
              "      <td>1976</td>\n",
              "      <td>1950</td>\n",
              "      <td>0</td>\n",
              "      <td>6</td>\n",
              "      <td>5</td>\n",
              "      <td>2</td>\n",
              "      <td>1</td>\n",
              "      <td>586.182353</td>\n",
              "      <td>469.685845</td>\n",
              "      <td>566.069609</td>\n",
              "      <td>1</td>\n",
              "      <td>1</td>\n",
              "      <td>2</td>\n",
              "      <td>864</td>\n",
              "      <td>0</td>\n",
              "      <td>864</td>\n",
              "      <td>0.002000</td>\n",
              "      <td>1</td>\n",
              "      <td>0</td>\n",
              "      <td>3</td>\n",
              "      <td>1</td>\n",
              "      <td>3</td>\n",
              "      <td>6</td>\n",
              "      <td>0</td>\n",
              "      <td>0.998002</td>\n",
              "      <td>193.156275</td>\n",
              "      <td>1</td>\n",
              "      <td>0</td>\n",
              "      <td>0</td>\n",
              "      <td>7</td>\n",
              "      <td>2006</td>\n",
              "      <td>1</td>\n",
              "      <td>0</td>\n",
              "      <td>135000.0</td>\n",
              "    </tr>\n",
              "    <tr>\n",
              "      <th>4</th>\n",
              "      <td>3644</td>\n",
              "      <td>754</td>\n",
              "      <td>20</td>\n",
              "      <td>1</td>\n",
              "      <td>9600</td>\n",
              "      <td>1</td>\n",
              "      <td>2</td>\n",
              "      <td>2</td>\n",
              "      <td>14</td>\n",
              "      <td>0</td>\n",
              "      <td>1</td>\n",
              "      <td>7</td>\n",
              "      <td>5</td>\n",
              "      <td>1994</td>\n",
              "      <td>2002</td>\n",
              "      <td>0</td>\n",
              "      <td>6</td>\n",
              "      <td>7</td>\n",
              "      <td>1</td>\n",
              "      <td>2</td>\n",
              "      <td>1589.946047</td>\n",
              "      <td>484.337352</td>\n",
              "      <td>1258.013116</td>\n",
              "      <td>0</td>\n",
              "      <td>1</td>\n",
              "      <td>2</td>\n",
              "      <td>832</td>\n",
              "      <td>0</td>\n",
              "      <td>1040</td>\n",
              "      <td>1.001998</td>\n",
              "      <td>2</td>\n",
              "      <td>0</td>\n",
              "      <td>3</td>\n",
              "      <td>1</td>\n",
              "      <td>2</td>\n",
              "      <td>7</td>\n",
              "      <td>1</td>\n",
              "      <td>2.998012</td>\n",
              "      <td>617.903766</td>\n",
              "      <td>1</td>\n",
              "      <td>0</td>\n",
              "      <td>0</td>\n",
              "      <td>7</td>\n",
              "      <td>2007</td>\n",
              "      <td>1</td>\n",
              "      <td>0</td>\n",
              "      <td>175000.0</td>\n",
              "    </tr>\n",
              "    <tr>\n",
              "      <th>...</th>\n",
              "      <td>...</td>\n",
              "      <td>...</td>\n",
              "      <td>...</td>\n",
              "      <td>...</td>\n",
              "      <td>...</td>\n",
              "      <td>...</td>\n",
              "      <td>...</td>\n",
              "      <td>...</td>\n",
              "      <td>...</td>\n",
              "      <td>...</td>\n",
              "      <td>...</td>\n",
              "      <td>...</td>\n",
              "      <td>...</td>\n",
              "      <td>...</td>\n",
              "      <td>...</td>\n",
              "      <td>...</td>\n",
              "      <td>...</td>\n",
              "      <td>...</td>\n",
              "      <td>...</td>\n",
              "      <td>...</td>\n",
              "      <td>...</td>\n",
              "      <td>...</td>\n",
              "      <td>...</td>\n",
              "      <td>...</td>\n",
              "      <td>...</td>\n",
              "      <td>...</td>\n",
              "      <td>...</td>\n",
              "      <td>...</td>\n",
              "      <td>...</td>\n",
              "      <td>...</td>\n",
              "      <td>...</td>\n",
              "      <td>...</td>\n",
              "      <td>...</td>\n",
              "      <td>...</td>\n",
              "      <td>...</td>\n",
              "      <td>...</td>\n",
              "      <td>...</td>\n",
              "      <td>...</td>\n",
              "      <td>...</td>\n",
              "      <td>...</td>\n",
              "      <td>...</td>\n",
              "      <td>...</td>\n",
              "      <td>...</td>\n",
              "      <td>...</td>\n",
              "      <td>...</td>\n",
              "      <td>...</td>\n",
              "      <td>...</td>\n",
              "    </tr>\n",
              "    <tr>\n",
              "      <th>2995</th>\n",
              "      <td>4931</td>\n",
              "      <td>27</td>\n",
              "      <td>120</td>\n",
              "      <td>1</td>\n",
              "      <td>1680</td>\n",
              "      <td>1</td>\n",
              "      <td>2</td>\n",
              "      <td>2</td>\n",
              "      <td>15</td>\n",
              "      <td>4</td>\n",
              "      <td>1</td>\n",
              "      <td>5</td>\n",
              "      <td>5</td>\n",
              "      <td>2004</td>\n",
              "      <td>2004</td>\n",
              "      <td>0</td>\n",
              "      <td>6</td>\n",
              "      <td>7</td>\n",
              "      <td>2</td>\n",
              "      <td>2</td>\n",
              "      <td>620.110745</td>\n",
              "      <td>511.080630</td>\n",
              "      <td>1163.794125</td>\n",
              "      <td>0</td>\n",
              "      <td>1</td>\n",
              "      <td>2</td>\n",
              "      <td>1337</td>\n",
              "      <td>0</td>\n",
              "      <td>1728</td>\n",
              "      <td>0.002000</td>\n",
              "      <td>2</td>\n",
              "      <td>0</td>\n",
              "      <td>3</td>\n",
              "      <td>1</td>\n",
              "      <td>3</td>\n",
              "      <td>6</td>\n",
              "      <td>0</td>\n",
              "      <td>1.998001</td>\n",
              "      <td>416.886419</td>\n",
              "      <td>1</td>\n",
              "      <td>0</td>\n",
              "      <td>0</td>\n",
              "      <td>5</td>\n",
              "      <td>2009</td>\n",
              "      <td>1</td>\n",
              "      <td>0</td>\n",
              "      <td>130000.0</td>\n",
              "    </tr>\n",
              "    <tr>\n",
              "      <th>2996</th>\n",
              "      <td>3264</td>\n",
              "      <td>2203</td>\n",
              "      <td>160</td>\n",
              "      <td>1</td>\n",
              "      <td>2665</td>\n",
              "      <td>1</td>\n",
              "      <td>2</td>\n",
              "      <td>2</td>\n",
              "      <td>9</td>\n",
              "      <td>0</td>\n",
              "      <td>2</td>\n",
              "      <td>5</td>\n",
              "      <td>5</td>\n",
              "      <td>1970</td>\n",
              "      <td>1970</td>\n",
              "      <td>0</td>\n",
              "      <td>1</td>\n",
              "      <td>4</td>\n",
              "      <td>2</td>\n",
              "      <td>2</td>\n",
              "      <td>0.001057</td>\n",
              "      <td>480.872842</td>\n",
              "      <td>543.789909</td>\n",
              "      <td>0</td>\n",
              "      <td>1</td>\n",
              "      <td>2</td>\n",
              "      <td>1040</td>\n",
              "      <td>0</td>\n",
              "      <td>1040</td>\n",
              "      <td>0.001999</td>\n",
              "      <td>1</td>\n",
              "      <td>1</td>\n",
              "      <td>3</td>\n",
              "      <td>1</td>\n",
              "      <td>3</td>\n",
              "      <td>6</td>\n",
              "      <td>0</td>\n",
              "      <td>1.998004</td>\n",
              "      <td>371.721904</td>\n",
              "      <td>1</td>\n",
              "      <td>0</td>\n",
              "      <td>0</td>\n",
              "      <td>5</td>\n",
              "      <td>2006</td>\n",
              "      <td>1</td>\n",
              "      <td>0</td>\n",
              "      <td>140000.0</td>\n",
              "    </tr>\n",
              "    <tr>\n",
              "      <th>2997</th>\n",
              "      <td>1653</td>\n",
              "      <td>2447</td>\n",
              "      <td>20</td>\n",
              "      <td>1</td>\n",
              "      <td>7200</td>\n",
              "      <td>1</td>\n",
              "      <td>2</td>\n",
              "      <td>2</td>\n",
              "      <td>11</td>\n",
              "      <td>0</td>\n",
              "      <td>1</td>\n",
              "      <td>5</td>\n",
              "      <td>5</td>\n",
              "      <td>1963</td>\n",
              "      <td>1950</td>\n",
              "      <td>0</td>\n",
              "      <td>6</td>\n",
              "      <td>7</td>\n",
              "      <td>2</td>\n",
              "      <td>1</td>\n",
              "      <td>554.523591</td>\n",
              "      <td>488.283374</td>\n",
              "      <td>621.223013</td>\n",
              "      <td>0</td>\n",
              "      <td>1</td>\n",
              "      <td>2</td>\n",
              "      <td>1098</td>\n",
              "      <td>0</td>\n",
              "      <td>2358</td>\n",
              "      <td>1.001999</td>\n",
              "      <td>2</td>\n",
              "      <td>0</td>\n",
              "      <td>3</td>\n",
              "      <td>1</td>\n",
              "      <td>3</td>\n",
              "      <td>5</td>\n",
              "      <td>0</td>\n",
              "      <td>1.998003</td>\n",
              "      <td>379.306321</td>\n",
              "      <td>1</td>\n",
              "      <td>0</td>\n",
              "      <td>0</td>\n",
              "      <td>7</td>\n",
              "      <td>2007</td>\n",
              "      <td>1</td>\n",
              "      <td>0</td>\n",
              "      <td>158000.0</td>\n",
              "    </tr>\n",
              "    <tr>\n",
              "      <th>2998</th>\n",
              "      <td>2607</td>\n",
              "      <td>378</td>\n",
              "      <td>60</td>\n",
              "      <td>0</td>\n",
              "      <td>9000</td>\n",
              "      <td>1</td>\n",
              "      <td>2</td>\n",
              "      <td>2</td>\n",
              "      <td>19</td>\n",
              "      <td>0</td>\n",
              "      <td>2</td>\n",
              "      <td>6</td>\n",
              "      <td>5</td>\n",
              "      <td>2005</td>\n",
              "      <td>1950</td>\n",
              "      <td>0</td>\n",
              "      <td>6</td>\n",
              "      <td>7</td>\n",
              "      <td>1</td>\n",
              "      <td>2</td>\n",
              "      <td>0.000872</td>\n",
              "      <td>504.687298</td>\n",
              "      <td>599.525621</td>\n",
              "      <td>0</td>\n",
              "      <td>1</td>\n",
              "      <td>2</td>\n",
              "      <td>728</td>\n",
              "      <td>0</td>\n",
              "      <td>1456</td>\n",
              "      <td>0.001999</td>\n",
              "      <td>2</td>\n",
              "      <td>1</td>\n",
              "      <td>3</td>\n",
              "      <td>1</td>\n",
              "      <td>3</td>\n",
              "      <td>7</td>\n",
              "      <td>1</td>\n",
              "      <td>1.998002</td>\n",
              "      <td>371.138581</td>\n",
              "      <td>1</td>\n",
              "      <td>0</td>\n",
              "      <td>0</td>\n",
              "      <td>7</td>\n",
              "      <td>2007</td>\n",
              "      <td>1</td>\n",
              "      <td>0</td>\n",
              "      <td>158000.0</td>\n",
              "    </tr>\n",
              "    <tr>\n",
              "      <th>2999</th>\n",
              "      <td>2732</td>\n",
              "      <td>2284</td>\n",
              "      <td>20</td>\n",
              "      <td>1</td>\n",
              "      <td>9600</td>\n",
              "      <td>1</td>\n",
              "      <td>2</td>\n",
              "      <td>2</td>\n",
              "      <td>6</td>\n",
              "      <td>0</td>\n",
              "      <td>1</td>\n",
              "      <td>5</td>\n",
              "      <td>5</td>\n",
              "      <td>1950</td>\n",
              "      <td>1950</td>\n",
              "      <td>0</td>\n",
              "      <td>2</td>\n",
              "      <td>3</td>\n",
              "      <td>2</td>\n",
              "      <td>1</td>\n",
              "      <td>0.001002</td>\n",
              "      <td>138.664835</td>\n",
              "      <td>-146.979773</td>\n",
              "      <td>0</td>\n",
              "      <td>1</td>\n",
              "      <td>2</td>\n",
              "      <td>864</td>\n",
              "      <td>0</td>\n",
              "      <td>1040</td>\n",
              "      <td>0.002000</td>\n",
              "      <td>1</td>\n",
              "      <td>0</td>\n",
              "      <td>3</td>\n",
              "      <td>1</td>\n",
              "      <td>3</td>\n",
              "      <td>6</td>\n",
              "      <td>1</td>\n",
              "      <td>0.998001</td>\n",
              "      <td>183.425942</td>\n",
              "      <td>1</td>\n",
              "      <td>0</td>\n",
              "      <td>0</td>\n",
              "      <td>6</td>\n",
              "      <td>2009</td>\n",
              "      <td>1</td>\n",
              "      <td>0</td>\n",
              "      <td>153000.0</td>\n",
              "    </tr>\n",
              "  </tbody>\n",
              "</table>\n",
              "<p>3000 rows × 47 columns</p>\n",
              "</div>"
            ],
            "text/plain": [
              "      index  Order  MS SubClass  ...  Sale Type  Sale Condition  SalePrice\n",
              "0       200   2163           20  ...          1               0   158000.0\n",
              "1      3832   1862           20  ...          1               0   145000.0\n",
              "2      4927    754           20  ...          1               0   125000.0\n",
              "3      4088    641           80  ...          1               0   135000.0\n",
              "4      3644    754           20  ...          1               0   175000.0\n",
              "...     ...    ...          ...  ...        ...             ...        ...\n",
              "2995   4931     27          120  ...          1               0   130000.0\n",
              "2996   3264   2203          160  ...          1               0   140000.0\n",
              "2997   1653   2447           20  ...          1               0   158000.0\n",
              "2998   2607    378           60  ...          1               0   158000.0\n",
              "2999   2732   2284           20  ...          1               0   153000.0\n",
              "\n",
              "[3000 rows x 47 columns]"
            ]
          },
          "metadata": {
            "tags": []
          },
          "execution_count": 351
        }
      ]
    },
    {
      "cell_type": "markdown",
      "metadata": {
        "id": "2rRUGN5tteYv"
      },
      "source": [
        "Index(['index', 'Order', 'MS SubClass', 'MS Zoning', 'Lot Area', 'Lot Shape',\r\n",
        "       'Land Contour', 'Lot Config', 'Neighborhood', 'Bldg Type',\r\n",
        "       'House Style', 'Overall Qual', 'Overall Cond', 'Year Built',\r\n",
        "       'Year Remod/Add', 'Roof Style', 'Exterior 1st', 'Exterior 2nd',\r\n",
        "       'Exter Qual', 'Foundation', 'BsmtFin SF 1', 'Bsmt Unf SF',\r\n",
        "       'Total Bsmt SF', 'Heating QC', 'Central Air', 'Electrical',\r\n",
        "       '1st Flr SF', '2nd Flr SF', 'Gr Liv Area', 'Bsmt Full Bath',\r\n",
        "       'Full Bath', 'Half Bath', 'Bedroom AbvGr', 'Kitchen AbvGr',\r\n",
        "       'Kitchen Qual', 'TotRms AbvGrd', 'Fireplaces', 'Garage Cars',\r\n",
        "       'Garage Area', 'Paved Drive', 'Wood Deck SF', 'Open Porch SF',\r\n",
        "       'Mo Sold', 'Yr Sold', 'Sale Type', 'Sale Condition', 'SalePrice'],\r\n",
        "      dtype='object')"
      ]
    },
    {
      "cell_type": "code",
      "metadata": {
        "id": "9h5W7N-3n2I7"
      },
      "source": [
        "# 重要度30以下の項目を削除して訓練する\r\n",
        "drop_array = ['SalePrice', 'index', 'Order', 'Overall Qual', 'Year Remod/Add', 'MS SubClass', 'Yr Sold', 'Mo Sold', 'Exterior 2nd', 'Full Bath', 'House Style',  'Exter Qual', 'Exterior 1st', 'Fireplaces', 'Heating QC', 'TotRms AbvGrd', 'Foundation', 'Lot Shape', 'Kitchen Qual', 'Overall Cond',  'Bldg Type', 'Half Bath', 'MS Zoning', 'Roof Style', 'Sale Type', 'Bedroom AbvGr']\r\n",
        "train_X = train_df_le.drop(drop_array, axis = 1) \r\n",
        "train_Y = train_df_le['SalePrice']"
      ],
      "execution_count": 352,
      "outputs": []
    },
    {
      "cell_type": "code",
      "metadata": {
        "id": "mmflxRuy98ES"
      },
      "source": [
        "# train_X = train_df_le.drop(['SalePrice'], axis = 1) \r\n",
        "# train_Y = train_df_le['SalePrice']"
      ],
      "execution_count": 353,
      "outputs": []
    },
    {
      "cell_type": "code",
      "metadata": {
        "id": "S-UrFhk7oW3Y"
      },
      "source": [
        "from sklearn.metrics import mean_squared_error"
      ],
      "execution_count": 354,
      "outputs": []
    },
    {
      "cell_type": "code",
      "metadata": {
        "id": "yzjOf72lmWw-",
        "colab": {
          "base_uri": "https://localhost:8080/"
        },
        "outputId": "b526bf57-709c-45b2-e97b-615e2f08260d"
      },
      "source": [
        "models = []\r\n",
        "rmses = []\r\n",
        "oof = np.zeros(len(train_X)) \r\n",
        "for train_index, val_index in kf.split(train_X): \r\n",
        "    X_train = train_X. iloc[train_index]\r\n",
        "    X_valid = train_X. iloc[val_index] \r\n",
        "    y_train = train_Y.iloc[train_index] \r\n",
        "    y_valid = train_Y.iloc[val_index] \r\n",
        "    lgb_train = lgb.Dataset(X_train, y_train) \r\n",
        "    lgb_eval = lgb.Dataset(X_valid, y_valid, reference = lgb_train) \r\n",
        "    model_lgb = lgb.train(lgbm_params, lgb_train, valid_sets = lgb_eval, num_boost_round = 100, early_stopping_rounds = 20, verbose_eval = 10, ) \r\n",
        "    y_pred = model_lgb. predict(X_valid, num_iteration = model_lgb. best_iteration)\r\n",
        "    tmp_rmse = np.sqrt(mean_squared_error(np.log(y_valid), np.log(y_pred))) \r\n",
        "    print(tmp_rmse) \r\n",
        "    models.append(model_lgb) \r\n",
        "    rmses.append(tmp_rmse) \r\n",
        "    oof[val_index] = y_pred"
      ],
      "execution_count": 355,
      "outputs": [
        {
          "output_type": "stream",
          "text": [
            "Training until validation scores don't improve for 20 rounds.\n",
            "[10]\tvalid_0's l2: 8.73712e+08\n",
            "[20]\tvalid_0's l2: 8.40607e+08\n",
            "[30]\tvalid_0's l2: 8.43175e+08\n",
            "[40]\tvalid_0's l2: 8.49426e+08\n",
            "Early stopping, best iteration is:\n",
            "[27]\tvalid_0's l2: 8.37657e+08\n",
            "0.17314436079055506\n",
            "Training until validation scores don't improve for 20 rounds.\n",
            "[10]\tvalid_0's l2: 6.61031e+08\n",
            "[20]\tvalid_0's l2: 6.52981e+08\n",
            "[30]\tvalid_0's l2: 6.60242e+08\n",
            "Early stopping, best iteration is:\n",
            "[19]\tvalid_0's l2: 6.50529e+08\n",
            "0.156051504577714\n",
            "Training until validation scores don't improve for 20 rounds.\n",
            "[10]\tvalid_0's l2: 9.60552e+08\n",
            "[20]\tvalid_0's l2: 9.47073e+08\n",
            "[30]\tvalid_0's l2: 9.4913e+08\n",
            "Early stopping, best iteration is:\n",
            "[16]\tvalid_0's l2: 9.44785e+08\n",
            "0.1770211236038198\n"
          ],
          "name": "stdout"
        }
      ]
    },
    {
      "cell_type": "code",
      "metadata": {
        "id": "gId9_pklpfRQ",
        "outputId": "9065c2f4-ac36-4b2d-8a81-97e8f782fad7",
        "colab": {
          "base_uri": "https://localhost:8080/",
          "height": 970
        }
      },
      "source": [
        "# 特徴量の重要度を確認\r\n",
        "lgb.plot_importance(model_lgb, height = 0.5, figsize = (8,16))"
      ],
      "execution_count": 356,
      "outputs": [
        {
          "output_type": "execute_result",
          "data": {
            "text/plain": [
              "<matplotlib.axes._subplots.AxesSubplot at 0x7f8f558d7710>"
            ]
          },
          "metadata": {
            "tags": []
          },
          "execution_count": 356
        },
        {
          "output_type": "display_data",
          "data": {
            "image/png": "[encoded data removed]",
            "text/plain": [
              "<Figure size 576x1152 with 1 Axes>"
            ]
          },
          "metadata": {
            "tags": []
          }
        }
      ]
    },
    {
      "cell_type": "code",
      "metadata": {
        "id": "-T8roIHPnPFs",
        "colab": {
          "base_uri": "https://localhost:8080/"
        },
        "outputId": "12f2e607-7601-43a6-d35c-6f1886b16959"
      },
      "source": [
        "# 重要度11以下の項目を削除して予測する\r\n",
        "test_X = test_df_le.drop(drop_array, axis = 1)\r\n",
        "preds = []\r\n",
        "\r\n",
        "for model in models:\r\n",
        "    pred = model.predict(test_X)\r\n",
        "    preds.append(pred)\r\n",
        "    preds_array=np.array(preds)\r\n",
        "    preds_mean=np.mean(preds_array,axis=0)\r\n",
        "    \r\n",
        "test_df_le['pred_1'] = preds[0]\r\n",
        "test_df_le['pred_2'] = preds[1]\r\n",
        "test_df_le['pred_3'] = preds[2]\r\n",
        "test_df_le[\"pred_mean\"] = preds_mean\r\n",
        "\r\n",
        "test_df_le.to_csv(\"./test_pred_goal_yeah4.csv\")"
      ],
      "execution_count": 357,
      "outputs": [
        {
          "output_type": "stream",
          "text": [
            "/usr/local/lib/python3.6/dist-packages/ipykernel_launcher.py:11: SettingWithCopyWarning: \n",
            "A value is trying to be set on a copy of a slice from a DataFrame.\n",
            "Try using .loc[row_indexer,col_indexer] = value instead\n",
            "\n",
            "See the caveats in the documentation: https://pandas.pydata.org/pandas-docs/stable/user_guide/indexing.html#returning-a-view-versus-a-copy\n",
            "  # This is added back by InteractiveShellApp.init_path()\n",
            "/usr/local/lib/python3.6/dist-packages/ipykernel_launcher.py:12: SettingWithCopyWarning: \n",
            "A value is trying to be set on a copy of a slice from a DataFrame.\n",
            "Try using .loc[row_indexer,col_indexer] = value instead\n",
            "\n",
            "See the caveats in the documentation: https://pandas.pydata.org/pandas-docs/stable/user_guide/indexing.html#returning-a-view-versus-a-copy\n",
            "  if sys.path[0] == '':\n",
            "/usr/local/lib/python3.6/dist-packages/ipykernel_launcher.py:13: SettingWithCopyWarning: \n",
            "A value is trying to be set on a copy of a slice from a DataFrame.\n",
            "Try using .loc[row_indexer,col_indexer] = value instead\n",
            "\n",
            "See the caveats in the documentation: https://pandas.pydata.org/pandas-docs/stable/user_guide/indexing.html#returning-a-view-versus-a-copy\n",
            "  del sys.path[0]\n",
            "/usr/local/lib/python3.6/dist-packages/ipykernel_launcher.py:14: SettingWithCopyWarning: \n",
            "A value is trying to be set on a copy of a slice from a DataFrame.\n",
            "Try using .loc[row_indexer,col_indexer] = value instead\n",
            "\n",
            "See the caveats in the documentation: https://pandas.pydata.org/pandas-docs/stable/user_guide/indexing.html#returning-a-view-versus-a-copy\n",
            "  \n"
          ],
          "name": "stderr"
        }
      ]
    },
    {
      "cell_type": "code",
      "metadata": {
        "id": "Rj1lgGrcUszO"
      },
      "source": [
        ""
      ],
      "execution_count": null,
      "outputs": []
    }
  ]
}