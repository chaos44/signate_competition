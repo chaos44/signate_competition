{
  "nbformat": 4,
  "nbformat_minor": 0,
  "metadata": {
    "colab": {
      "name": "Untitled48.ipynb",
      "provenance": [],
      "toc_visible": true,
      "authorship_tag": "ABX9TyOYbmhYCK3sHFcpzXJQDtMP",
      "include_colab_link": true
    },
    "kernelspec": {
      "name": "python3",
      "display_name": "Python 3"
    }
  },
  "cells": [
    {
      "cell_type": "markdown",
      "metadata": {
        "id": "view-in-github",
        "colab_type": "text"
      },
      "source": [
        "<a href=\"https://colab.research.google.com/github/chaos44/signate_competition/blob/main/ames_kaggle.ipynb\" target=\"_parent\"><img src=\"https://colab.research.google.com/assets/colab-badge.svg\" alt=\"Open In Colab\"/></a>"
      ]
    },
    {
      "cell_type": "markdown",
      "metadata": {
        "id": "UqEUIXM0hSeV"
      },
      "source": [
        "https://www.kaggle.com/mchatham/ames-housing-regression/comments"
      ]
    },
    {
      "cell_type": "code",
      "metadata": {
        "id": "1bg9OmmphOqP",
        "outputId": "9b8093eb-5b6b-4f64-b1e5-ac95a001d5ba",
        "colab": {
          "base_uri": "https://localhost:8080/"
        }
      },
      "source": [
        "!git clone https://github.com/chaos44/signate_competition"
      ],
      "execution_count": 5,
      "outputs": [
        {
          "output_type": "stream",
          "text": [
            "Cloning into 'signate_competition'...\n",
            "remote: Enumerating objects: 24, done.\u001b[K\n",
            "remote: Counting objects: 100% (24/24), done.\u001b[K\n",
            "remote: Compressing objects: 100% (19/19), done.\u001b[K\n",
            "remote: Total 24 (delta 2), reused 7 (delta 1), pack-reused 0\u001b[K\n",
            "Unpacking objects: 100% (24/24), done.\n"
          ],
          "name": "stdout"
        }
      ]
    },
    {
      "cell_type": "code",
      "metadata": {
        "colab": {
          "base_uri": "https://localhost:8080/"
        },
        "id": "Jd1Sldpc2bQr",
        "outputId": "f25fc45a-0bad-4060-ead4-24fa4cf524e2"
      },
      "source": [
        "cd signate_competition/ams_beginner/"
      ],
      "execution_count": 6,
      "outputs": [
        {
          "output_type": "stream",
          "text": [
            "/content/signate_competition/ams_beginner\n"
          ],
          "name": "stdout"
        }
      ]
    },
    {
      "cell_type": "code",
      "metadata": {
        "colab": {
          "base_uri": "https://localhost:8080/"
        },
        "id": "2dpU9W-33Mqz",
        "outputId": "275ed9d6-181e-4916-ebec-28569a98664d"
      },
      "source": [
        "ls"
      ],
      "execution_count": 7,
      "outputs": [
        {
          "output_type": "stream",
          "text": [
            "data_description.txt  sample_submit.csv  test.csv  train.csv\n"
          ],
          "name": "stdout"
        }
      ]
    },
    {
      "cell_type": "markdown",
      "metadata": {
        "id": "EwktELoV2_7L"
      },
      "source": [
        "## データ確認"
      ]
    },
    {
      "cell_type": "code",
      "metadata": {
        "id": "e3wU_PXA24DX"
      },
      "source": [
        "import pandas as pd\r\n",
        "import numpy as np\r\n",
        "import seaborn as sns\r\n",
        "import matplotlib.pyplot as plt"
      ],
      "execution_count": 8,
      "outputs": []
    },
    {
      "cell_type": "code",
      "metadata": {
        "id": "Kj6kI0d1aOjI"
      },
      "source": [
        "train = pd.read_csv('train.csv')\r\n",
        "test =  pd.read_csv('test.csv')"
      ],
      "execution_count": 9,
      "outputs": []
    },
    {
      "cell_type": "code",
      "metadata": {
        "id": "ggafknCXJcQi",
        "colab": {
          "base_uri": "https://localhost:8080/"
        },
        "outputId": "7d51f149-9999-4df2-b33d-be4a23f43847"
      },
      "source": [
        "print(train.shape)\r\n",
        "print(test.shape)"
      ],
      "execution_count": 10,
      "outputs": [
        {
          "output_type": "stream",
          "text": [
            "(3000, 47)\n",
            "(2000, 46)\n"
          ],
          "name": "stdout"
        }
      ]
    },
    {
      "cell_type": "code",
      "metadata": {
        "id": "NVS2p3cgacfy"
      },
      "source": [
        "test['SalePrice'] = np.nan\r\n",
        "df = pd.concat([train, test], axis=0)\r\n",
        "train_ids = train['index']\r\n",
        "test_ids = test['index']"
      ],
      "execution_count": 11,
      "outputs": []
    },
    {
      "cell_type": "code",
      "metadata": {
        "id": "TUUWNzOPaiO4",
        "colab": {
          "base_uri": "https://localhost:8080/",
          "height": 261
        },
        "outputId": "efb662b0-0411-487e-ebe3-025fa0e54a6e"
      },
      "source": [
        "df.head()"
      ],
      "execution_count": 12,
      "outputs": [
        {
          "output_type": "execute_result",
          "data": {
            "text/html": [
              "<div>\n",
              "<style scoped>\n",
              "    .dataframe tbody tr th:only-of-type {\n",
              "        vertical-align: middle;\n",
              "    }\n",
              "\n",
              "    .dataframe tbody tr th {\n",
              "        vertical-align: top;\n",
              "    }\n",
              "\n",
              "    .dataframe thead th {\n",
              "        text-align: right;\n",
              "    }\n",
              "</style>\n",
              "<table border=\"1\" class=\"dataframe\">\n",
              "  <thead>\n",
              "    <tr style=\"text-align: right;\">\n",
              "      <th></th>\n",
              "      <th>index</th>\n",
              "      <th>Order</th>\n",
              "      <th>MS SubClass</th>\n",
              "      <th>MS Zoning</th>\n",
              "      <th>Lot Area</th>\n",
              "      <th>Lot Shape</th>\n",
              "      <th>Land Contour</th>\n",
              "      <th>Lot Config</th>\n",
              "      <th>Neighborhood</th>\n",
              "      <th>Bldg Type</th>\n",
              "      <th>House Style</th>\n",
              "      <th>Overall Qual</th>\n",
              "      <th>Overall Cond</th>\n",
              "      <th>Year Built</th>\n",
              "      <th>Year Remod/Add</th>\n",
              "      <th>Roof Style</th>\n",
              "      <th>Exterior 1st</th>\n",
              "      <th>Exterior 2nd</th>\n",
              "      <th>Exter Qual</th>\n",
              "      <th>Foundation</th>\n",
              "      <th>BsmtFin SF 1</th>\n",
              "      <th>Bsmt Unf SF</th>\n",
              "      <th>Total Bsmt SF</th>\n",
              "      <th>Heating QC</th>\n",
              "      <th>Central Air</th>\n",
              "      <th>Electrical</th>\n",
              "      <th>1st Flr SF</th>\n",
              "      <th>2nd Flr SF</th>\n",
              "      <th>Gr Liv Area</th>\n",
              "      <th>Bsmt Full Bath</th>\n",
              "      <th>Full Bath</th>\n",
              "      <th>Half Bath</th>\n",
              "      <th>Bedroom AbvGr</th>\n",
              "      <th>Kitchen AbvGr</th>\n",
              "      <th>Kitchen Qual</th>\n",
              "      <th>TotRms AbvGrd</th>\n",
              "      <th>Fireplaces</th>\n",
              "      <th>Garage Cars</th>\n",
              "      <th>Garage Area</th>\n",
              "      <th>Paved Drive</th>\n",
              "      <th>Wood Deck SF</th>\n",
              "      <th>Open Porch SF</th>\n",
              "      <th>Mo Sold</th>\n",
              "      <th>Yr Sold</th>\n",
              "      <th>Sale Type</th>\n",
              "      <th>Sale Condition</th>\n",
              "      <th>SalePrice</th>\n",
              "    </tr>\n",
              "  </thead>\n",
              "  <tbody>\n",
              "    <tr>\n",
              "      <th>0</th>\n",
              "      <td>200</td>\n",
              "      <td>2163</td>\n",
              "      <td>20</td>\n",
              "      <td>RL</td>\n",
              "      <td>9000</td>\n",
              "      <td>Reg</td>\n",
              "      <td>Lvl</td>\n",
              "      <td>Inside</td>\n",
              "      <td>NAmes</td>\n",
              "      <td>1Fam</td>\n",
              "      <td>1Story</td>\n",
              "      <td>5</td>\n",
              "      <td>5</td>\n",
              "      <td>1963</td>\n",
              "      <td>1950</td>\n",
              "      <td>Gable</td>\n",
              "      <td>VinylSd</td>\n",
              "      <td>VinylSd</td>\n",
              "      <td>TA</td>\n",
              "      <td>CBlock</td>\n",
              "      <td>554.725259</td>\n",
              "      <td>490.862838</td>\n",
              "      <td>620.339061</td>\n",
              "      <td>Ex</td>\n",
              "      <td>Y</td>\n",
              "      <td>SBrkr</td>\n",
              "      <td>941</td>\n",
              "      <td>0</td>\n",
              "      <td>2358</td>\n",
              "      <td>1.001999</td>\n",
              "      <td>2</td>\n",
              "      <td>0</td>\n",
              "      <td>3</td>\n",
              "      <td>1</td>\n",
              "      <td>TA</td>\n",
              "      <td>5</td>\n",
              "      <td>0</td>\n",
              "      <td>1.998003</td>\n",
              "      <td>381.014258</td>\n",
              "      <td>Y</td>\n",
              "      <td>0</td>\n",
              "      <td>0</td>\n",
              "      <td>7</td>\n",
              "      <td>2007</td>\n",
              "      <td>WD</td>\n",
              "      <td>Normal</td>\n",
              "      <td>158000.0</td>\n",
              "    </tr>\n",
              "    <tr>\n",
              "      <th>1</th>\n",
              "      <td>3832</td>\n",
              "      <td>1862</td>\n",
              "      <td>20</td>\n",
              "      <td>RL</td>\n",
              "      <td>9600</td>\n",
              "      <td>Reg</td>\n",
              "      <td>Lvl</td>\n",
              "      <td>Inside</td>\n",
              "      <td>CollgCr</td>\n",
              "      <td>1Fam</td>\n",
              "      <td>1Story</td>\n",
              "      <td>7</td>\n",
              "      <td>5</td>\n",
              "      <td>2006</td>\n",
              "      <td>2006</td>\n",
              "      <td>Gable</td>\n",
              "      <td>VinylSd</td>\n",
              "      <td>VinylSd</td>\n",
              "      <td>Gd</td>\n",
              "      <td>PConc</td>\n",
              "      <td>514.217911</td>\n",
              "      <td>1711.943709</td>\n",
              "      <td>1286.011022</td>\n",
              "      <td>Ex</td>\n",
              "      <td>Y</td>\n",
              "      <td>SBrkr</td>\n",
              "      <td>894</td>\n",
              "      <td>0</td>\n",
              "      <td>1040</td>\n",
              "      <td>0.002000</td>\n",
              "      <td>2</td>\n",
              "      <td>0</td>\n",
              "      <td>3</td>\n",
              "      <td>1</td>\n",
              "      <td>Gd</td>\n",
              "      <td>6</td>\n",
              "      <td>0</td>\n",
              "      <td>1.998003</td>\n",
              "      <td>384.114652</td>\n",
              "      <td>Y</td>\n",
              "      <td>0</td>\n",
              "      <td>0</td>\n",
              "      <td>11</td>\n",
              "      <td>2007</td>\n",
              "      <td>WD</td>\n",
              "      <td>Normal</td>\n",
              "      <td>145000.0</td>\n",
              "    </tr>\n",
              "    <tr>\n",
              "      <th>2</th>\n",
              "      <td>4927</td>\n",
              "      <td>754</td>\n",
              "      <td>20</td>\n",
              "      <td>RL</td>\n",
              "      <td>9600</td>\n",
              "      <td>Reg</td>\n",
              "      <td>Lvl</td>\n",
              "      <td>Inside</td>\n",
              "      <td>NridgHt</td>\n",
              "      <td>1Fam</td>\n",
              "      <td>1Story</td>\n",
              "      <td>9</td>\n",
              "      <td>5</td>\n",
              "      <td>2007</td>\n",
              "      <td>2007</td>\n",
              "      <td>Hip</td>\n",
              "      <td>VinylSd</td>\n",
              "      <td>VinylSd</td>\n",
              "      <td>Gd</td>\n",
              "      <td>PConc</td>\n",
              "      <td>1596.991227</td>\n",
              "      <td>511.217197</td>\n",
              "      <td>1341.741207</td>\n",
              "      <td>Ex</td>\n",
              "      <td>Y</td>\n",
              "      <td>SBrkr</td>\n",
              "      <td>864</td>\n",
              "      <td>0</td>\n",
              "      <td>864</td>\n",
              "      <td>1.001999</td>\n",
              "      <td>2</td>\n",
              "      <td>0</td>\n",
              "      <td>3</td>\n",
              "      <td>1</td>\n",
              "      <td>Gd</td>\n",
              "      <td>7</td>\n",
              "      <td>1</td>\n",
              "      <td>2.998015</td>\n",
              "      <td>625.140330</td>\n",
              "      <td>Y</td>\n",
              "      <td>0</td>\n",
              "      <td>0</td>\n",
              "      <td>5</td>\n",
              "      <td>2008</td>\n",
              "      <td>WD</td>\n",
              "      <td>Normal</td>\n",
              "      <td>125000.0</td>\n",
              "    </tr>\n",
              "    <tr>\n",
              "      <th>3</th>\n",
              "      <td>4088</td>\n",
              "      <td>641</td>\n",
              "      <td>80</td>\n",
              "      <td>RL</td>\n",
              "      <td>9600</td>\n",
              "      <td>Reg</td>\n",
              "      <td>Lvl</td>\n",
              "      <td>Inside</td>\n",
              "      <td>OldTown</td>\n",
              "      <td>1Fam</td>\n",
              "      <td>SLvl</td>\n",
              "      <td>6</td>\n",
              "      <td>6</td>\n",
              "      <td>1976</td>\n",
              "      <td>1950</td>\n",
              "      <td>Gable</td>\n",
              "      <td>VinylSd</td>\n",
              "      <td>Plywood</td>\n",
              "      <td>TA</td>\n",
              "      <td>CBlock</td>\n",
              "      <td>586.182353</td>\n",
              "      <td>469.685845</td>\n",
              "      <td>566.069609</td>\n",
              "      <td>Gd</td>\n",
              "      <td>Y</td>\n",
              "      <td>SBrkr</td>\n",
              "      <td>864</td>\n",
              "      <td>0</td>\n",
              "      <td>864</td>\n",
              "      <td>0.002000</td>\n",
              "      <td>1</td>\n",
              "      <td>0</td>\n",
              "      <td>3</td>\n",
              "      <td>1</td>\n",
              "      <td>TA</td>\n",
              "      <td>6</td>\n",
              "      <td>0</td>\n",
              "      <td>0.998002</td>\n",
              "      <td>193.156275</td>\n",
              "      <td>Y</td>\n",
              "      <td>0</td>\n",
              "      <td>0</td>\n",
              "      <td>7</td>\n",
              "      <td>2006</td>\n",
              "      <td>WD</td>\n",
              "      <td>Normal</td>\n",
              "      <td>135000.0</td>\n",
              "    </tr>\n",
              "    <tr>\n",
              "      <th>4</th>\n",
              "      <td>3644</td>\n",
              "      <td>754</td>\n",
              "      <td>20</td>\n",
              "      <td>RL</td>\n",
              "      <td>9600</td>\n",
              "      <td>Reg</td>\n",
              "      <td>Lvl</td>\n",
              "      <td>Inside</td>\n",
              "      <td>NoRidge</td>\n",
              "      <td>1Fam</td>\n",
              "      <td>1Story</td>\n",
              "      <td>7</td>\n",
              "      <td>5</td>\n",
              "      <td>1994</td>\n",
              "      <td>2002</td>\n",
              "      <td>Gable</td>\n",
              "      <td>VinylSd</td>\n",
              "      <td>VinylSd</td>\n",
              "      <td>Gd</td>\n",
              "      <td>PConc</td>\n",
              "      <td>1589.946047</td>\n",
              "      <td>484.337352</td>\n",
              "      <td>1258.013116</td>\n",
              "      <td>Ex</td>\n",
              "      <td>Y</td>\n",
              "      <td>SBrkr</td>\n",
              "      <td>832</td>\n",
              "      <td>0</td>\n",
              "      <td>1040</td>\n",
              "      <td>1.001998</td>\n",
              "      <td>2</td>\n",
              "      <td>0</td>\n",
              "      <td>3</td>\n",
              "      <td>1</td>\n",
              "      <td>Gd</td>\n",
              "      <td>7</td>\n",
              "      <td>1</td>\n",
              "      <td>2.998012</td>\n",
              "      <td>617.903766</td>\n",
              "      <td>Y</td>\n",
              "      <td>0</td>\n",
              "      <td>0</td>\n",
              "      <td>7</td>\n",
              "      <td>2007</td>\n",
              "      <td>WD</td>\n",
              "      <td>Normal</td>\n",
              "      <td>175000.0</td>\n",
              "    </tr>\n",
              "  </tbody>\n",
              "</table>\n",
              "</div>"
            ],
            "text/plain": [
              "   index  Order  MS SubClass  ... Sale Type  Sale Condition SalePrice\n",
              "0    200   2163           20  ...       WD           Normal  158000.0\n",
              "1   3832   1862           20  ...       WD           Normal  145000.0\n",
              "2   4927    754           20  ...       WD           Normal  125000.0\n",
              "3   4088    641           80  ...       WD           Normal  135000.0\n",
              "4   3644    754           20  ...       WD           Normal  175000.0\n",
              "\n",
              "[5 rows x 47 columns]"
            ]
          },
          "metadata": {
            "tags": []
          },
          "execution_count": 12
        }
      ]
    },
    {
      "cell_type": "code",
      "metadata": {
        "id": "5zCtRIOeawmR",
        "colab": {
          "base_uri": "https://localhost:8080/"
        },
        "outputId": "2a1c7f31-ecb2-49b4-8832-6325d032508b"
      },
      "source": [
        "df.shape"
      ],
      "execution_count": 13,
      "outputs": [
        {
          "output_type": "execute_result",
          "data": {
            "text/plain": [
              "(5000, 47)"
            ]
          },
          "metadata": {
            "tags": []
          },
          "execution_count": 13
        }
      ]
    },
    {
      "cell_type": "code",
      "metadata": {
        "id": "ZPYpVN8Ta3AB",
        "colab": {
          "base_uri": "https://localhost:8080/"
        },
        "outputId": "b430250e-00a7-4a93-960d-ebd2aba335cc"
      },
      "source": [
        "print('Data from years {} to {}.'.format(df['Yr Sold'].min(), df['Yr Sold'].max()))"
      ],
      "execution_count": 14,
      "outputs": [
        {
          "output_type": "stream",
          "text": [
            "Data from years 2006 to 2010.\n"
          ],
          "name": "stdout"
        }
      ]
    },
    {
      "cell_type": "markdown",
      "metadata": {
        "id": "L_vOFGkdbmXn"
      },
      "source": [
        "\r\n",
        "Some info about Ames, Iowa\r\n",
        "\r\n",
        "    Population: 66,191 in 2016, in the top ten for the state of Iowa.\r\n",
        "    Density: 2,436/mi2\r\n",
        "\r\n",
        "    Major employers: State/federal agencies\r\n",
        "    Ranked in the top 15 \"Cities that have done the best since the recession\" by Bloomberg\r\n",
        "    Unemployment: Ranked along with Boulder, CO as lowest unemployment rate in 2016.\r\n",
        "\r\n",
        "Ames is a moderately-sized town smack-dab in the middle of Iowa, containing Iowa State University (ISU) and nestled between the state's major east-west and north-south highways. ISU employs almost 16,000 of the states 66,00 residents. The Iowa DoT is located in the city. Finally, Ames sees a lot of political activity by virtue of its being in Iowa. According to Wikipedia, the Ames Straw Poll was held in the city from 1979 through 2011 before being cancelled."
      ]
    },
    {
      "cell_type": "code",
      "metadata": {
        "id": "XsfKXNIHbCce",
        "colab": {
          "base_uri": "https://localhost:8080/"
        },
        "outputId": "cff85ac9-50c0-4b35-f825-5f3fa1dbb47b"
      },
      "source": [
        "sns.set()\r\n",
        "df.columns"
      ],
      "execution_count": 15,
      "outputs": [
        {
          "output_type": "execute_result",
          "data": {
            "text/plain": [
              "Index(['index', 'Order', 'MS SubClass', 'MS Zoning', 'Lot Area', 'Lot Shape',\n",
              "       'Land Contour', 'Lot Config', 'Neighborhood', 'Bldg Type',\n",
              "       'House Style', 'Overall Qual', 'Overall Cond', 'Year Built',\n",
              "       'Year Remod/Add', 'Roof Style', 'Exterior 1st', 'Exterior 2nd',\n",
              "       'Exter Qual', 'Foundation', 'BsmtFin SF 1', 'Bsmt Unf SF',\n",
              "       'Total Bsmt SF', 'Heating QC', 'Central Air', 'Electrical',\n",
              "       '1st Flr SF', '2nd Flr SF', 'Gr Liv Area', 'Bsmt Full Bath',\n",
              "       'Full Bath', 'Half Bath', 'Bedroom AbvGr', 'Kitchen AbvGr',\n",
              "       'Kitchen Qual', 'TotRms AbvGrd', 'Fireplaces', 'Garage Cars',\n",
              "       'Garage Area', 'Paved Drive', 'Wood Deck SF', 'Open Porch SF',\n",
              "       'Mo Sold', 'Yr Sold', 'Sale Type', 'Sale Condition', 'SalePrice'],\n",
              "      dtype='object')"
            ]
          },
          "metadata": {
            "tags": []
          },
          "execution_count": 15
        }
      ]
    },
    {
      "cell_type": "code",
      "metadata": {
        "id": "TvbZv_8RbEHo",
        "colab": {
          "base_uri": "https://localhost:8080/",
          "height": 302
        },
        "outputId": "2daf9ed3-6aa1-4a38-8b61-64f4c25e5842"
      },
      "source": [
        "sns.boxplot(x=df['Yr Sold'], y=df['SalePrice'])"
      ],
      "execution_count": 16,
      "outputs": [
        {
          "output_type": "execute_result",
          "data": {
            "text/plain": [
              "<matplotlib.axes._subplots.AxesSubplot at 0x7fc289fedc18>"
            ]
          },
          "metadata": {
            "tags": []
          },
          "execution_count": 16
        },
        {
          "output_type": "display_data",
          "data": {
            "image/png": "[encoded data removed]",
            "text/plain": [
              "<Figure size 432x288 with 1 Axes>"
            ]
          },
          "metadata": {
            "tags": []
          }
        }
      ]
    },
    {
      "cell_type": "code",
      "metadata": {
        "id": "zJ57NmWscanQ",
        "colab": {
          "base_uri": "https://localhost:8080/",
          "height": 340
        },
        "outputId": "9e1ea0bd-093b-4ae3-df7b-e663e91dff6d"
      },
      "source": [
        "data = pd.concat(\r\n",
        "    [\r\n",
        "        df.groupby('Neighborhood').mean()['SalePrice'],\r\n",
        "        df.groupby('Neighborhood').count()['index']\r\n",
        "    ], \r\n",
        "    \r\n",
        "    axis=1)\r\n",
        "f, ax = plt.subplots()\r\n",
        "sns.stripplot(data.sort_values(by='SalePrice').SalePrice, data.sort_values(by='SalePrice').index, orient='h', color='red');\r\n",
        "# sns.stripplot(data.sort_values(by='Id').Id, data.sort_values(by='Id').index, orient='h', color='red')"
      ],
      "execution_count": 17,
      "outputs": [
        {
          "output_type": "stream",
          "text": [
            "/usr/local/lib/python3.6/dist-packages/seaborn/_decorators.py:43: FutureWarning: Pass the following variables as keyword args: x, y. From version 0.12, the only valid positional argument will be `data`, and passing other arguments without an explicit keyword will result in an error or misinterpretation.\n",
            "  FutureWarning\n"
          ],
          "name": "stderr"
        },
        {
          "output_type": "display_data",
          "data": {
            "image/png": "[encoded data removed]",
            "text/plain": [
              "<Figure size 432x288 with 1 Axes>"
            ]
          },
          "metadata": {
            "tags": []
          }
        }
      ]
    },
    {
      "cell_type": "markdown",
      "metadata": {
        "id": "3mDwzgiBdK7Q"
      },
      "source": [
        "Interestingly, I see four clusters of neighborhoods above.\r\n",
        "\r\n",
        "    Neighborhood 1: MeadowV:BrDale\r\n",
        "    Neighborhood 2: BrkSide:Mitchel\r\n",
        "    Neighborhood 3: SawyerW:Veenker\r\n",
        "    Neighborhood 4: Timber:NoRidge\r\n"
      ]
    },
    {
      "cell_type": "code",
      "metadata": {
        "id": "QvJozZF5dNAS",
        "colab": {
          "base_uri": "https://localhost:8080/",
          "height": 340
        },
        "outputId": "6622d73e-d79a-4223-874c-4c48ae82feba"
      },
      "source": [
        "sorted_corrs = df.corr()['SalePrice'].apply(np.abs).sort_values(ascending=False)\r\n",
        "sns.stripplot(sorted_corrs, sorted_corrs.index, orient='h');"
      ],
      "execution_count": 18,
      "outputs": [
        {
          "output_type": "stream",
          "text": [
            "/usr/local/lib/python3.6/dist-packages/seaborn/_decorators.py:43: FutureWarning: Pass the following variables as keyword args: x, y. From version 0.12, the only valid positional argument will be `data`, and passing other arguments without an explicit keyword will result in an error or misinterpretation.\n",
            "  FutureWarning\n"
          ],
          "name": "stderr"
        },
        {
          "output_type": "display_data",
          "data": {
            "image/png": "[encoded data removed]",
            "text/plain": [
              "<Figure size 432x288 with 1 Axes>"
            ]
          },
          "metadata": {
            "tags": []
          }
        }
      ]
    },
    {
      "cell_type": "code",
      "metadata": {
        "id": "SZERlBKIdmhP",
        "outputId": "5805eff0-a9bf-478e-c9ad-94e7e46854eb",
        "colab": {
          "base_uri": "https://localhost:8080/"
        }
      },
      "source": [
        "from sklearn. preprocessing import LabelEncoder\r\n",
        "\r\n",
        "categories = df.columns[df.dtypes == \"object\"]\r\n",
        "categories"
      ],
      "execution_count": 22,
      "outputs": [
        {
          "output_type": "execute_result",
          "data": {
            "text/plain": [
              "Index(['MS Zoning', 'Lot Shape', 'Land Contour', 'Lot Config', 'Neighborhood',\n",
              "       'Bldg Type', 'House Style', 'Roof Style', 'Exterior 1st',\n",
              "       'Exterior 2nd', 'Exter Qual', 'Foundation', 'Heating QC', 'Central Air',\n",
              "       'Electrical', 'Kitchen Qual', 'Paved Drive', 'Sale Type',\n",
              "       'Sale Condition'],\n",
              "      dtype='object')"
            ]
          },
          "metadata": {
            "tags": []
          },
          "execution_count": 22
        }
      ]
    },
    {
      "cell_type": "code",
      "metadata": {
        "id": "a8tmWyWBlbgR",
        "outputId": "46517212-1843-46e5-d33b-555e3b637367",
        "colab": {
          "base_uri": "https://localhost:8080/"
        }
      },
      "source": [
        "for cat in categories: \r\n",
        "    le = LabelEncoder() \r\n",
        "    print(cat) \r\n",
        "    if df[cat].dtypes == \"object\": \r\n",
        "        le = le. fit(df[cat])\r\n",
        "        df[cat] = le.transform(df[cat])"
      ],
      "execution_count": 23,
      "outputs": [
        {
          "output_type": "stream",
          "text": [
            "MS Zoning\n",
            "Lot Shape\n",
            "Land Contour\n",
            "Lot Config\n",
            "Neighborhood\n",
            "Bldg Type\n",
            "House Style\n",
            "Roof Style\n",
            "Exterior 1st\n",
            "Exterior 2nd\n",
            "Exter Qual\n",
            "Foundation\n",
            "Heating QC\n",
            "Central Air\n",
            "Electrical\n",
            "Kitchen Qual\n",
            "Paved Drive\n",
            "Sale Type\n",
            "Sale Condition\n"
          ],
          "name": "stdout"
        }
      ]
    },
    {
      "cell_type": "code",
      "metadata": {
        "id": "Xx7Q_S9-loTV"
      },
      "source": [
        "train_df_le = df[~df[\"SalePrice\"].isnull()]\r\n",
        "test_df_le = df[df[\"SalePrice\"].isnull()] "
      ],
      "execution_count": 25,
      "outputs": []
    },
    {
      "cell_type": "code",
      "metadata": {
        "id": "RvNyg6ccoQ7x"
      },
      "source": [
        "import lightgbm as lgb"
      ],
      "execution_count": 36,
      "outputs": []
    },
    {
      "cell_type": "code",
      "metadata": {
        "id": "IKmMa9DvltYL"
      },
      "source": [
        "from sklearn.model_selection import KFold \r\n",
        "folds = 3 \r\n",
        "kf = KFold(n_splits = folds)"
      ],
      "execution_count": 27,
      "outputs": []
    },
    {
      "cell_type": "code",
      "metadata": {
        "id": "inTTQCHimNnz"
      },
      "source": [
        "lgbm_params = { \"objective\" :\"regression\", \"random_SEED\" : 1234 }"
      ],
      "execution_count": 28,
      "outputs": []
    },
    {
      "cell_type": "code",
      "metadata": {
        "id": "9h5W7N-3n2I7"
      },
      "source": [
        "train_X = train_df_le.drop([\"SalePrice\", \"index\", \"Order\"], axis = 1) \r\n",
        "train_Y = train_df_le[\"SalePrice\"]"
      ],
      "execution_count": 34,
      "outputs": []
    },
    {
      "cell_type": "code",
      "metadata": {
        "id": "S-UrFhk7oW3Y"
      },
      "source": [
        "from sklearn.metrics import mean_squared_error"
      ],
      "execution_count": 38,
      "outputs": []
    },
    {
      "cell_type": "code",
      "metadata": {
        "id": "yzjOf72lmWw-",
        "outputId": "97110738-4e51-49ed-e1d9-b7f0c602b46a",
        "colab": {
          "base_uri": "https://localhost:8080/"
        }
      },
      "source": [
        "models = []\r\n",
        "rmses = []\r\n",
        "oof = np.zeros(len(train_X)) \r\n",
        "for train_index, val_index in kf.split(train_X): \r\n",
        "    X_train = train_X. iloc[train_index]\r\n",
        "    X_valid = train_X. iloc[val_index] \r\n",
        "    y_train = train_Y.iloc[train_index] \r\n",
        "    y_valid = train_Y.iloc[val_index] \r\n",
        "    lgb_train = lgb.Dataset(X_train, y_train) \r\n",
        "    lgb_eval = lgb.Dataset(X_valid, y_valid, reference = lgb_train) \r\n",
        "    model_lgb = lgb.train(lgbm_params, lgb_train, valid_sets = lgb_eval, num_boost_round = 100, early_stopping_rounds = 20, verbose_eval = 10, ) \r\n",
        "    y_pred = model_lgb. predict(X_valid, num_iteration = model_lgb. best_iteration)\r\n",
        "    tmp_rmse = np.sqrt(mean_squared_error(np.log(y_valid), np.log(y_pred))) \r\n",
        "    print(tmp_rmse) \r\n",
        "    models.append(model_lgb) \r\n",
        "    rmses.append(tmp_rmse) \r\n",
        "    oof[val_index] = y_pred"
      ],
      "execution_count": 39,
      "outputs": [
        {
          "output_type": "stream",
          "text": [
            "Training until validation scores don't improve for 20 rounds.\n",
            "[10]\tvalid_0's l2: 8.57549e+08\n",
            "[20]\tvalid_0's l2: 8.29565e+08\n",
            "[30]\tvalid_0's l2: 8.3132e+08\n",
            "[40]\tvalid_0's l2: 8.31604e+08\n",
            "Early stopping, best iteration is:\n",
            "[26]\tvalid_0's l2: 8.27461e+08\n",
            "0.17166258041175814\n",
            "Training until validation scores don't improve for 20 rounds.\n",
            "[10]\tvalid_0's l2: 6.5764e+08\n",
            "[20]\tvalid_0's l2: 6.42391e+08\n",
            "[30]\tvalid_0's l2: 6.51741e+08\n",
            "[40]\tvalid_0's l2: 6.5934e+08\n",
            "Early stopping, best iteration is:\n",
            "[20]\tvalid_0's l2: 6.42391e+08\n",
            "0.15409882377914308\n",
            "Training until validation scores don't improve for 20 rounds.\n",
            "[10]\tvalid_0's l2: 9.25361e+08\n",
            "[20]\tvalid_0's l2: 9.09891e+08\n",
            "[30]\tvalid_0's l2: 9.20146e+08\n",
            "Early stopping, best iteration is:\n",
            "[19]\tvalid_0's l2: 9.08741e+08\n",
            "0.17343034287461978\n"
          ],
          "name": "stdout"
        }
      ]
    },
    {
      "cell_type": "code",
      "metadata": {
        "id": "-T8roIHPnPFs",
        "outputId": "333585bb-0ab6-466b-8c30-70cfce446337",
        "colab": {
          "base_uri": "https://localhost:8080/"
        }
      },
      "source": [
        "test_X = test_df_le.drop([\"SalePrice\", \"Order\", \"index\"], axis = 1)\r\n",
        "preds = []\r\n",
        "\r\n",
        "for model in models:\r\n",
        "    pred = model.predict(test_X)\r\n",
        "    preds.append(pred)\r\n",
        "    \r\n",
        "test_df_le['pred_1'] = preds[0]\r\n",
        "test_df_le['pred_2'] = preds[1]\r\n",
        "test_df_le['pred_3'] = preds[2]\r\n",
        "\r\n",
        "test_df_le.to_csv(\"./test_pred.csv\")"
      ],
      "execution_count": 41,
      "outputs": [
        {
          "output_type": "stream",
          "text": [
            "/usr/local/lib/python3.6/dist-packages/ipykernel_launcher.py:8: SettingWithCopyWarning: \n",
            "A value is trying to be set on a copy of a slice from a DataFrame.\n",
            "Try using .loc[row_indexer,col_indexer] = value instead\n",
            "\n",
            "See the caveats in the documentation: https://pandas.pydata.org/pandas-docs/stable/user_guide/indexing.html#returning-a-view-versus-a-copy\n",
            "  \n",
            "/usr/local/lib/python3.6/dist-packages/ipykernel_launcher.py:9: SettingWithCopyWarning: \n",
            "A value is trying to be set on a copy of a slice from a DataFrame.\n",
            "Try using .loc[row_indexer,col_indexer] = value instead\n",
            "\n",
            "See the caveats in the documentation: https://pandas.pydata.org/pandas-docs/stable/user_guide/indexing.html#returning-a-view-versus-a-copy\n",
            "  if __name__ == '__main__':\n",
            "/usr/local/lib/python3.6/dist-packages/ipykernel_launcher.py:10: SettingWithCopyWarning: \n",
            "A value is trying to be set on a copy of a slice from a DataFrame.\n",
            "Try using .loc[row_indexer,col_indexer] = value instead\n",
            "\n",
            "See the caveats in the documentation: https://pandas.pydata.org/pandas-docs/stable/user_guide/indexing.html#returning-a-view-versus-a-copy\n",
            "  # Remove the CWD from sys.path while we load stuff.\n"
          ],
          "name": "stderr"
        }
      ]
    },
    {
      "cell_type": "code",
      "metadata": {
        "id": "ZnRrJZICoj9B"
      },
      "source": [
        ""
      ],
      "execution_count": null,
      "outputs": []
    }
  ]
}