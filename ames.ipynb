{
  "nbformat": 4,
  "nbformat_minor": 0,
  "metadata": {
    "colab": {
      "name": "Untitled48.ipynb",
      "provenance": [],
      "authorship_tag": "ABX9TyNW44KDBW4Wu6Lg5H6M6Lzp",
      "include_colab_link": true
    },
    "kernelspec": {
      "name": "python3",
      "display_name": "Python 3"
    }
  },
  "cells": [
    {
      "cell_type": "markdown",
      "metadata": {
        "id": "view-in-github",
        "colab_type": "text"
      },
      "source": [
        "<a href=\"https://colab.research.google.com/github/chaos44/signate_competition/blob/main/ames.ipynb\" target=\"_parent\"><img src=\"https://colab.research.google.com/assets/colab-badge.svg\" alt=\"Open In Colab\"/></a>"
      ]
    },
    {
      "cell_type": "code",
      "metadata": {
        "colab": {
          "base_uri": "https://localhost:8080/"
        },
        "id": "xjNkTuDW2Z90",
        "outputId": "4042838d-c064-404c-ad58-e76985149977"
      },
      "source": [
        "!git clone https://github.com/chaos44/signate_competition"
      ],
      "execution_count": 1,
      "outputs": [
        {
          "output_type": "stream",
          "text": [
            "Cloning into 'signate_competition'...\n",
            "remote: Enumerating objects: 15, done.\u001b[K\n",
            "remote: Counting objects: 100% (15/15), done.\u001b[K\n",
            "remote: Compressing objects: 100% (10/10), done.\u001b[K\n",
            "remote: Total 15 (delta 1), reused 7 (delta 1), pack-reused 0\u001b[K\n",
            "Unpacking objects: 100% (15/15), done.\n"
          ],
          "name": "stdout"
        }
      ]
    },
    {
      "cell_type": "code",
      "metadata": {
        "colab": {
          "base_uri": "https://localhost:8080/"
        },
        "id": "Jd1Sldpc2bQr",
        "outputId": "3af6ae13-1efe-4e06-c8ae-cde92f0ddda0"
      },
      "source": [
        "cd signate_competition/ams_beginner/"
      ],
      "execution_count": 3,
      "outputs": [
        {
          "output_type": "stream",
          "text": [
            "/content/signate_competition/ams_beginner\n"
          ],
          "name": "stdout"
        }
      ]
    },
    {
      "cell_type": "code",
      "metadata": {
        "colab": {
          "base_uri": "https://localhost:8080/"
        },
        "id": "2dpU9W-33Mqz",
        "outputId": "18a20f95-836b-4ba3-c777-d6f30f974469"
      },
      "source": [
        "ls"
      ],
      "execution_count": 5,
      "outputs": [
        {
          "output_type": "stream",
          "text": [
            "data_description.txt  sample_submit.csv  test.csv  train.csv\n"
          ],
          "name": "stdout"
        }
      ]
    },
    {
      "cell_type": "markdown",
      "metadata": {
        "id": "EwktELoV2_7L"
      },
      "source": [
        "## データ確認"
      ]
    },
    {
      "cell_type": "code",
      "metadata": {
        "id": "e3wU_PXA24DX"
      },
      "source": [
        "import pandas as pd\r\n",
        "\r\n",
        "train_data = pd.read_csv('train.csv')"
      ],
      "execution_count": 27,
      "outputs": []
    },
    {
      "cell_type": "code",
      "metadata": {
        "colab": {
          "base_uri": "https://localhost:8080/"
        },
        "id": "K2kccMmZ3SjN",
        "outputId": "e48592ff-8cf6-4179-d335-a4a3de3b448c"
      },
      "source": [
        "train_data['Roof Style']"
      ],
      "execution_count": 28,
      "outputs": [
        {
          "output_type": "execute_result",
          "data": {
            "text/plain": [
              "0       Gable\n",
              "1       Gable\n",
              "2         Hip\n",
              "3       Gable\n",
              "4       Gable\n",
              "        ...  \n",
              "2995    Gable\n",
              "2996    Gable\n",
              "2997    Gable\n",
              "2998    Gable\n",
              "2999    Gable\n",
              "Name: Roof Style, Length: 3000, dtype: object"
            ]
          },
          "metadata": {
            "tags": []
          },
          "execution_count": 28
        }
      ]
    },
    {
      "cell_type": "code",
      "metadata": {
        "colab": {
          "base_uri": "https://localhost:8080/"
        },
        "id": "cn3CwRic3XWL",
        "outputId": "5efeb3e9-9c32-46a9-ebb4-b8aa9cb81ced"
      },
      "source": [
        "# データの情報を確認する\r\n",
        "train_data.info()"
      ],
      "execution_count": 29,
      "outputs": [
        {
          "output_type": "stream",
          "text": [
            "<class 'pandas.core.frame.DataFrame'>\n",
            "RangeIndex: 3000 entries, 0 to 2999\n",
            "Data columns (total 47 columns):\n",
            " #   Column          Non-Null Count  Dtype  \n",
            "---  ------          --------------  -----  \n",
            " 0   index           3000 non-null   int64  \n",
            " 1   Order           3000 non-null   int64  \n",
            " 2   MS SubClass     3000 non-null   int64  \n",
            " 3   MS Zoning       3000 non-null   object \n",
            " 4   Lot Area        3000 non-null   int64  \n",
            " 5   Lot Shape       3000 non-null   object \n",
            " 6   Land Contour    3000 non-null   object \n",
            " 7   Lot Config      3000 non-null   object \n",
            " 8   Neighborhood    3000 non-null   object \n",
            " 9   Bldg Type       3000 non-null   object \n",
            " 10  House Style     3000 non-null   object \n",
            " 11  Overall Qual    3000 non-null   int64  \n",
            " 12  Overall Cond    3000 non-null   int64  \n",
            " 13  Year Built      3000 non-null   int64  \n",
            " 14  Year Remod/Add  3000 non-null   int64  \n",
            " 15  Roof Style      3000 non-null   object \n",
            " 16  Exterior 1st    3000 non-null   object \n",
            " 17  Exterior 2nd    3000 non-null   object \n",
            " 18  Exter Qual      3000 non-null   object \n",
            " 19  Foundation      3000 non-null   object \n",
            " 20  BsmtFin SF 1    3000 non-null   float64\n",
            " 21  Bsmt Unf SF     3000 non-null   float64\n",
            " 22  Total Bsmt SF   3000 non-null   float64\n",
            " 23  Heating QC      3000 non-null   object \n",
            " 24  Central Air     3000 non-null   object \n",
            " 25  Electrical      3000 non-null   object \n",
            " 26  1st Flr SF      3000 non-null   int64  \n",
            " 27  2nd Flr SF      3000 non-null   int64  \n",
            " 28  Gr Liv Area     3000 non-null   int64  \n",
            " 29  Bsmt Full Bath  3000 non-null   float64\n",
            " 30  Full Bath       3000 non-null   int64  \n",
            " 31  Half Bath       3000 non-null   int64  \n",
            " 32  Bedroom AbvGr   3000 non-null   int64  \n",
            " 33  Kitchen AbvGr   3000 non-null   int64  \n",
            " 34  Kitchen Qual    3000 non-null   object \n",
            " 35  TotRms AbvGrd   3000 non-null   int64  \n",
            " 36  Fireplaces      3000 non-null   int64  \n",
            " 37  Garage Cars     3000 non-null   float64\n",
            " 38  Garage Area     3000 non-null   float64\n",
            " 39  Paved Drive     3000 non-null   object \n",
            " 40  Wood Deck SF    3000 non-null   int64  \n",
            " 41  Open Porch SF   3000 non-null   int64  \n",
            " 42  Mo Sold         3000 non-null   int64  \n",
            " 43  Yr Sold         3000 non-null   int64  \n",
            " 44  Sale Type       3000 non-null   object \n",
            " 45  Sale Condition  3000 non-null   object \n",
            " 46  SalePrice       3000 non-null   int64  \n",
            "dtypes: float64(6), int64(22), object(19)\n",
            "memory usage: 1.1+ MB\n"
          ],
          "name": "stdout"
        }
      ]
    },
    {
      "cell_type": "code",
      "metadata": {
        "colab": {
          "base_uri": "https://localhost:8080/",
          "height": 338
        },
        "id": "DvgmbmbH3bY5",
        "outputId": "657919bc-ef28-4b0a-a68a-af7ae7a4a722"
      },
      "source": [
        "train_data.describe()"
      ],
      "execution_count": 30,
      "outputs": [
        {
          "output_type": "execute_result",
          "data": {
            "text/html": [
              "<div>\n",
              "<style scoped>\n",
              "    .dataframe tbody tr th:only-of-type {\n",
              "        vertical-align: middle;\n",
              "    }\n",
              "\n",
              "    .dataframe tbody tr th {\n",
              "        vertical-align: top;\n",
              "    }\n",
              "\n",
              "    .dataframe thead th {\n",
              "        text-align: right;\n",
              "    }\n",
              "</style>\n",
              "<table border=\"1\" class=\"dataframe\">\n",
              "  <thead>\n",
              "    <tr style=\"text-align: right;\">\n",
              "      <th></th>\n",
              "      <th>index</th>\n",
              "      <th>Order</th>\n",
              "      <th>MS SubClass</th>\n",
              "      <th>Lot Area</th>\n",
              "      <th>Overall Qual</th>\n",
              "      <th>Overall Cond</th>\n",
              "      <th>Year Built</th>\n",
              "      <th>Year Remod/Add</th>\n",
              "      <th>BsmtFin SF 1</th>\n",
              "      <th>Bsmt Unf SF</th>\n",
              "      <th>Total Bsmt SF</th>\n",
              "      <th>1st Flr SF</th>\n",
              "      <th>2nd Flr SF</th>\n",
              "      <th>Gr Liv Area</th>\n",
              "      <th>Bsmt Full Bath</th>\n",
              "      <th>Full Bath</th>\n",
              "      <th>Half Bath</th>\n",
              "      <th>Bedroom AbvGr</th>\n",
              "      <th>Kitchen AbvGr</th>\n",
              "      <th>TotRms AbvGrd</th>\n",
              "      <th>Fireplaces</th>\n",
              "      <th>Garage Cars</th>\n",
              "      <th>Garage Area</th>\n",
              "      <th>Wood Deck SF</th>\n",
              "      <th>Open Porch SF</th>\n",
              "      <th>Mo Sold</th>\n",
              "      <th>Yr Sold</th>\n",
              "      <th>SalePrice</th>\n",
              "    </tr>\n",
              "  </thead>\n",
              "  <tbody>\n",
              "    <tr>\n",
              "      <th>count</th>\n",
              "      <td>3000.000000</td>\n",
              "      <td>3000.000000</td>\n",
              "      <td>3000.000000</td>\n",
              "      <td>3000.000000</td>\n",
              "      <td>3000.000000</td>\n",
              "      <td>3000.000000</td>\n",
              "      <td>3000.000000</td>\n",
              "      <td>3000.000000</td>\n",
              "      <td>3000.000000</td>\n",
              "      <td>3000.000000</td>\n",
              "      <td>3000.000000</td>\n",
              "      <td>3000.000000</td>\n",
              "      <td>3000.000000</td>\n",
              "      <td>3000.000000</td>\n",
              "      <td>3000.000000</td>\n",
              "      <td>3000.000000</td>\n",
              "      <td>3000.000000</td>\n",
              "      <td>3000.000</td>\n",
              "      <td>3000.000000</td>\n",
              "      <td>3000.000000</td>\n",
              "      <td>3000.000000</td>\n",
              "      <td>3000.000000</td>\n",
              "      <td>3000.000000</td>\n",
              "      <td>3000.000000</td>\n",
              "      <td>3000.000000</td>\n",
              "      <td>3000.000000</td>\n",
              "      <td>3000.000000</td>\n",
              "      <td>3000.000000</td>\n",
              "    </tr>\n",
              "    <tr>\n",
              "      <th>mean</th>\n",
              "      <td>2492.964667</td>\n",
              "      <td>1248.236333</td>\n",
              "      <td>48.396667</td>\n",
              "      <td>7602.694000</td>\n",
              "      <td>5.815333</td>\n",
              "      <td>5.107333</td>\n",
              "      <td>1979.900667</td>\n",
              "      <td>1976.471667</td>\n",
              "      <td>517.089283</td>\n",
              "      <td>677.716410</td>\n",
              "      <td>773.655458</td>\n",
              "      <td>968.897333</td>\n",
              "      <td>0.773667</td>\n",
              "      <td>1311.471000</td>\n",
              "      <td>0.379999</td>\n",
              "      <td>1.694333</td>\n",
              "      <td>0.183000</td>\n",
              "      <td>2.944</td>\n",
              "      <td>1.001000</td>\n",
              "      <td>6.080333</td>\n",
              "      <td>0.418333</td>\n",
              "      <td>1.818004</td>\n",
              "      <td>358.008090</td>\n",
              "      <td>0.100000</td>\n",
              "      <td>0.154667</td>\n",
              "      <td>6.387333</td>\n",
              "      <td>2007.235667</td>\n",
              "      <td>150288.542000</td>\n",
              "    </tr>\n",
              "    <tr>\n",
              "      <th>std</th>\n",
              "      <td>1447.218078</td>\n",
              "      <td>839.778012</td>\n",
              "      <td>40.079273</td>\n",
              "      <td>2412.498362</td>\n",
              "      <td>1.073133</td>\n",
              "      <td>0.434982</td>\n",
              "      <td>25.464595</td>\n",
              "      <td>26.939323</td>\n",
              "      <td>432.542348</td>\n",
              "      <td>498.431545</td>\n",
              "      <td>320.844443</td>\n",
              "      <td>281.493308</td>\n",
              "      <td>21.287668</td>\n",
              "      <td>452.347226</td>\n",
              "      <td>0.484968</td>\n",
              "      <td>0.460766</td>\n",
              "      <td>0.386731</td>\n",
              "      <td>0.330</td>\n",
              "      <td>0.031612</td>\n",
              "      <td>0.972383</td>\n",
              "      <td>0.499413</td>\n",
              "      <td>0.652490</td>\n",
              "      <td>137.882480</td>\n",
              "      <td>3.161223</td>\n",
              "      <td>2.681257</td>\n",
              "      <td>1.268270</td>\n",
              "      <td>1.052852</td>\n",
              "      <td>31054.043412</td>\n",
              "    </tr>\n",
              "    <tr>\n",
              "      <th>min</th>\n",
              "      <td>0.000000</td>\n",
              "      <td>27.000000</td>\n",
              "      <td>20.000000</td>\n",
              "      <td>1680.000000</td>\n",
              "      <td>4.000000</td>\n",
              "      <td>3.000000</td>\n",
              "      <td>1900.000000</td>\n",
              "      <td>1950.000000</td>\n",
              "      <td>0.000298</td>\n",
              "      <td>52.682220</td>\n",
              "      <td>-192.151721</td>\n",
              "      <td>483.000000</td>\n",
              "      <td>0.000000</td>\n",
              "      <td>848.000000</td>\n",
              "      <td>0.001990</td>\n",
              "      <td>1.000000</td>\n",
              "      <td>0.000000</td>\n",
              "      <td>1.000</td>\n",
              "      <td>1.000000</td>\n",
              "      <td>4.000000</td>\n",
              "      <td>0.000000</td>\n",
              "      <td>-0.001999</td>\n",
              "      <td>-0.001881</td>\n",
              "      <td>0.000000</td>\n",
              "      <td>0.000000</td>\n",
              "      <td>1.000000</td>\n",
              "      <td>2006.000000</td>\n",
              "      <td>80000.000000</td>\n",
              "    </tr>\n",
              "    <tr>\n",
              "      <th>25%</th>\n",
              "      <td>1218.750000</td>\n",
              "      <td>632.000000</td>\n",
              "      <td>20.000000</td>\n",
              "      <td>6000.000000</td>\n",
              "      <td>5.000000</td>\n",
              "      <td>5.000000</td>\n",
              "      <td>1963.000000</td>\n",
              "      <td>1950.000000</td>\n",
              "      <td>0.001216</td>\n",
              "      <td>464.214812</td>\n",
              "      <td>588.148081</td>\n",
              "      <td>864.000000</td>\n",
              "      <td>0.000000</td>\n",
              "      <td>912.000000</td>\n",
              "      <td>0.002000</td>\n",
              "      <td>1.000000</td>\n",
              "      <td>0.000000</td>\n",
              "      <td>3.000</td>\n",
              "      <td>1.000000</td>\n",
              "      <td>5.000000</td>\n",
              "      <td>0.000000</td>\n",
              "      <td>1.998001</td>\n",
              "      <td>368.150937</td>\n",
              "      <td>0.000000</td>\n",
              "      <td>0.000000</td>\n",
              "      <td>6.000000</td>\n",
              "      <td>2006.000000</td>\n",
              "      <td>139000.000000</td>\n",
              "    </tr>\n",
              "    <tr>\n",
              "      <th>50%</th>\n",
              "      <td>2465.500000</td>\n",
              "      <td>1097.000000</td>\n",
              "      <td>20.000000</td>\n",
              "      <td>8400.000000</td>\n",
              "      <td>6.000000</td>\n",
              "      <td>5.000000</td>\n",
              "      <td>1976.000000</td>\n",
              "      <td>1967.500000</td>\n",
              "      <td>554.581463</td>\n",
              "      <td>490.341164</td>\n",
              "      <td>621.881176</td>\n",
              "      <td>864.000000</td>\n",
              "      <td>0.000000</td>\n",
              "      <td>1092.000000</td>\n",
              "      <td>0.002000</td>\n",
              "      <td>2.000000</td>\n",
              "      <td>0.000000</td>\n",
              "      <td>3.000</td>\n",
              "      <td>1.000000</td>\n",
              "      <td>6.000000</td>\n",
              "      <td>0.000000</td>\n",
              "      <td>1.998003</td>\n",
              "      <td>379.312837</td>\n",
              "      <td>0.000000</td>\n",
              "      <td>0.000000</td>\n",
              "      <td>6.000000</td>\n",
              "      <td>2007.000000</td>\n",
              "      <td>145000.000000</td>\n",
              "    </tr>\n",
              "    <tr>\n",
              "      <th>75%</th>\n",
              "      <td>3750.250000</td>\n",
              "      <td>2163.000000</td>\n",
              "      <td>60.000000</td>\n",
              "      <td>9600.000000</td>\n",
              "      <td>6.000000</td>\n",
              "      <td>5.000000</td>\n",
              "      <td>2005.000000</td>\n",
              "      <td>2006.000000</td>\n",
              "      <td>591.008914</td>\n",
              "      <td>821.938802</td>\n",
              "      <td>1164.610129</td>\n",
              "      <td>991.500000</td>\n",
              "      <td>0.000000</td>\n",
              "      <td>1646.000000</td>\n",
              "      <td>1.001999</td>\n",
              "      <td>2.000000</td>\n",
              "      <td>0.000000</td>\n",
              "      <td>3.000</td>\n",
              "      <td>1.000000</td>\n",
              "      <td>7.000000</td>\n",
              "      <td>1.000000</td>\n",
              "      <td>1.998004</td>\n",
              "      <td>392.790170</td>\n",
              "      <td>0.000000</td>\n",
              "      <td>0.000000</td>\n",
              "      <td>7.000000</td>\n",
              "      <td>2008.000000</td>\n",
              "      <td>158000.000000</td>\n",
              "    </tr>\n",
              "    <tr>\n",
              "      <th>max</th>\n",
              "      <td>4999.000000</td>\n",
              "      <td>2902.000000</td>\n",
              "      <td>190.000000</td>\n",
              "      <td>31250.000000</td>\n",
              "      <td>9.000000</td>\n",
              "      <td>8.000000</td>\n",
              "      <td>2009.000000</td>\n",
              "      <td>2009.000000</td>\n",
              "      <td>1680.095488</td>\n",
              "      <td>1874.002549</td>\n",
              "      <td>1586.250299</td>\n",
              "      <td>2362.000000</td>\n",
              "      <td>683.000000</td>\n",
              "      <td>2784.000000</td>\n",
              "      <td>1.002000</td>\n",
              "      <td>2.000000</td>\n",
              "      <td>1.000000</td>\n",
              "      <td>4.000</td>\n",
              "      <td>2.000000</td>\n",
              "      <td>10.000000</td>\n",
              "      <td>2.000000</td>\n",
              "      <td>2.998023</td>\n",
              "      <td>895.134618</td>\n",
              "      <td>100.000000</td>\n",
              "      <td>48.000000</td>\n",
              "      <td>12.000000</td>\n",
              "      <td>2010.000000</td>\n",
              "      <td>418000.000000</td>\n",
              "    </tr>\n",
              "  </tbody>\n",
              "</table>\n",
              "</div>"
            ],
            "text/plain": [
              "             index        Order  ...      Yr Sold      SalePrice\n",
              "count  3000.000000  3000.000000  ...  3000.000000    3000.000000\n",
              "mean   2492.964667  1248.236333  ...  2007.235667  150288.542000\n",
              "std    1447.218078   839.778012  ...     1.052852   31054.043412\n",
              "min       0.000000    27.000000  ...  2006.000000   80000.000000\n",
              "25%    1218.750000   632.000000  ...  2006.000000  139000.000000\n",
              "50%    2465.500000  1097.000000  ...  2007.000000  145000.000000\n",
              "75%    3750.250000  2163.000000  ...  2008.000000  158000.000000\n",
              "max    4999.000000  2902.000000  ...  2010.000000  418000.000000\n",
              "\n",
              "[8 rows x 28 columns]"
            ]
          },
          "metadata": {
            "tags": []
          },
          "execution_count": 30
        }
      ]
    },
    {
      "cell_type": "code",
      "metadata": {
        "colab": {
          "base_uri": "https://localhost:8080/"
        },
        "id": "vzKzfwWh5enk",
        "outputId": "869edabe-1300-49e4-a98f-588d2906608d"
      },
      "source": [
        "# 販売価格の最大、最小値のindexを確認\r\n",
        "train_data['SalePrice'].idxmax()"
      ],
      "execution_count": 52,
      "outputs": [
        {
          "output_type": "execute_result",
          "data": {
            "text/plain": [
              "2006"
            ]
          },
          "metadata": {
            "tags": []
          },
          "execution_count": 52
        }
      ]
    },
    {
      "cell_type": "code",
      "metadata": {
        "colab": {
          "base_uri": "https://localhost:8080/"
        },
        "id": "8MDTrP6V8kMu",
        "outputId": "49ea54b2-5b93-43c6-9d03-d50200f08a08"
      },
      "source": [
        "train_data['SalePrice'].idxmin()"
      ],
      "execution_count": 53,
      "outputs": [
        {
          "output_type": "execute_result",
          "data": {
            "text/plain": [
              "142"
            ]
          },
          "metadata": {
            "tags": []
          },
          "execution_count": 53
        }
      ]
    },
    {
      "cell_type": "code",
      "metadata": {
        "colab": {
          "base_uri": "https://localhost:8080/",
          "height": 135
        },
        "id": "-7vTqMso89Qx",
        "outputId": "cc74de1a-8e2c-40c5-9e01-d844dcdd5eb0"
      },
      "source": [
        "train_data[train_data['index'] == 2289]"
      ],
      "execution_count": 72,
      "outputs": [
        {
          "output_type": "execute_result",
          "data": {
            "text/html": [
              "<div>\n",
              "<style scoped>\n",
              "    .dataframe tbody tr th:only-of-type {\n",
              "        vertical-align: middle;\n",
              "    }\n",
              "\n",
              "    .dataframe tbody tr th {\n",
              "        vertical-align: top;\n",
              "    }\n",
              "\n",
              "    .dataframe thead th {\n",
              "        text-align: right;\n",
              "    }\n",
              "</style>\n",
              "<table border=\"1\" class=\"dataframe\">\n",
              "  <thead>\n",
              "    <tr style=\"text-align: right;\">\n",
              "      <th></th>\n",
              "      <th>index</th>\n",
              "      <th>Order</th>\n",
              "      <th>MS SubClass</th>\n",
              "      <th>MS Zoning</th>\n",
              "      <th>Lot Area</th>\n",
              "      <th>Lot Shape</th>\n",
              "      <th>Land Contour</th>\n",
              "      <th>Lot Config</th>\n",
              "      <th>Neighborhood</th>\n",
              "      <th>Bldg Type</th>\n",
              "      <th>House Style</th>\n",
              "      <th>Overall Qual</th>\n",
              "      <th>Overall Cond</th>\n",
              "      <th>Year Built</th>\n",
              "      <th>Year Remod/Add</th>\n",
              "      <th>Roof Style</th>\n",
              "      <th>Exterior 1st</th>\n",
              "      <th>Exterior 2nd</th>\n",
              "      <th>Exter Qual</th>\n",
              "      <th>Foundation</th>\n",
              "      <th>BsmtFin SF 1</th>\n",
              "      <th>Bsmt Unf SF</th>\n",
              "      <th>Total Bsmt SF</th>\n",
              "      <th>Heating QC</th>\n",
              "      <th>Central Air</th>\n",
              "      <th>Electrical</th>\n",
              "      <th>1st Flr SF</th>\n",
              "      <th>2nd Flr SF</th>\n",
              "      <th>Gr Liv Area</th>\n",
              "      <th>Bsmt Full Bath</th>\n",
              "      <th>Full Bath</th>\n",
              "      <th>Half Bath</th>\n",
              "      <th>Bedroom AbvGr</th>\n",
              "      <th>Kitchen AbvGr</th>\n",
              "      <th>Kitchen Qual</th>\n",
              "      <th>TotRms AbvGrd</th>\n",
              "      <th>Fireplaces</th>\n",
              "      <th>Garage Cars</th>\n",
              "      <th>Garage Area</th>\n",
              "      <th>Paved Drive</th>\n",
              "      <th>Wood Deck SF</th>\n",
              "      <th>Open Porch SF</th>\n",
              "      <th>Mo Sold</th>\n",
              "      <th>Yr Sold</th>\n",
              "      <th>Sale Type</th>\n",
              "      <th>Sale Condition</th>\n",
              "      <th>SalePrice</th>\n",
              "    </tr>\n",
              "  </thead>\n",
              "  <tbody>\n",
              "    <tr>\n",
              "      <th>2006</th>\n",
              "      <td>2289</td>\n",
              "      <td>99</td>\n",
              "      <td>20</td>\n",
              "      <td>RL</td>\n",
              "      <td>1680</td>\n",
              "      <td>Reg</td>\n",
              "      <td>Lvl</td>\n",
              "      <td>Inside</td>\n",
              "      <td>NAmes</td>\n",
              "      <td>1Fam</td>\n",
              "      <td>1Story</td>\n",
              "      <td>5</td>\n",
              "      <td>5</td>\n",
              "      <td>1968</td>\n",
              "      <td>1960</td>\n",
              "      <td>Gable</td>\n",
              "      <td>Wd Sdng</td>\n",
              "      <td>Wd Sdng</td>\n",
              "      <td>TA</td>\n",
              "      <td>BrkTil</td>\n",
              "      <td>549.337287</td>\n",
              "      <td>473.967356</td>\n",
              "      <td>639.677434</td>\n",
              "      <td>TA</td>\n",
              "      <td>Y</td>\n",
              "      <td>SBrkr</td>\n",
              "      <td>672</td>\n",
              "      <td>0</td>\n",
              "      <td>1092</td>\n",
              "      <td>0.002</td>\n",
              "      <td>1</td>\n",
              "      <td>1</td>\n",
              "      <td>3</td>\n",
              "      <td>1</td>\n",
              "      <td>TA</td>\n",
              "      <td>6</td>\n",
              "      <td>0</td>\n",
              "      <td>-0.001998</td>\n",
              "      <td>-0.000926</td>\n",
              "      <td>Y</td>\n",
              "      <td>0</td>\n",
              "      <td>0</td>\n",
              "      <td>6</td>\n",
              "      <td>2009</td>\n",
              "      <td>WD</td>\n",
              "      <td>Normal</td>\n",
              "      <td>418000</td>\n",
              "    </tr>\n",
              "  </tbody>\n",
              "</table>\n",
              "</div>"
            ],
            "text/plain": [
              "      index  Order  MS SubClass  ... Sale Type  Sale Condition SalePrice\n",
              "2006   2289     99           20  ...       WD           Normal    418000\n",
              "\n",
              "[1 rows x 47 columns]"
            ]
          },
          "metadata": {
            "tags": []
          },
          "execution_count": 72
        }
      ]
    },
    {
      "cell_type": "code",
      "metadata": {
        "colab": {
          "base_uri": "https://localhost:8080/",
          "height": 261
        },
        "id": "gVi1z4CV9H08",
        "outputId": "f6be24ac-35a5-41de-995b-ab1b99c5deb3"
      },
      "source": [
        "train_data.query('SalePrice in [80000]').head(5)"
      ],
      "execution_count": 74,
      "outputs": [
        {
          "output_type": "execute_result",
          "data": {
            "text/html": [
              "<div>\n",
              "<style scoped>\n",
              "    .dataframe tbody tr th:only-of-type {\n",
              "        vertical-align: middle;\n",
              "    }\n",
              "\n",
              "    .dataframe tbody tr th {\n",
              "        vertical-align: top;\n",
              "    }\n",
              "\n",
              "    .dataframe thead th {\n",
              "        text-align: right;\n",
              "    }\n",
              "</style>\n",
              "<table border=\"1\" class=\"dataframe\">\n",
              "  <thead>\n",
              "    <tr style=\"text-align: right;\">\n",
              "      <th></th>\n",
              "      <th>index</th>\n",
              "      <th>Order</th>\n",
              "      <th>MS SubClass</th>\n",
              "      <th>MS Zoning</th>\n",
              "      <th>Lot Area</th>\n",
              "      <th>Lot Shape</th>\n",
              "      <th>Land Contour</th>\n",
              "      <th>Lot Config</th>\n",
              "      <th>Neighborhood</th>\n",
              "      <th>Bldg Type</th>\n",
              "      <th>House Style</th>\n",
              "      <th>Overall Qual</th>\n",
              "      <th>Overall Cond</th>\n",
              "      <th>Year Built</th>\n",
              "      <th>Year Remod/Add</th>\n",
              "      <th>Roof Style</th>\n",
              "      <th>Exterior 1st</th>\n",
              "      <th>Exterior 2nd</th>\n",
              "      <th>Exter Qual</th>\n",
              "      <th>Foundation</th>\n",
              "      <th>BsmtFin SF 1</th>\n",
              "      <th>Bsmt Unf SF</th>\n",
              "      <th>Total Bsmt SF</th>\n",
              "      <th>Heating QC</th>\n",
              "      <th>Central Air</th>\n",
              "      <th>Electrical</th>\n",
              "      <th>1st Flr SF</th>\n",
              "      <th>2nd Flr SF</th>\n",
              "      <th>Gr Liv Area</th>\n",
              "      <th>Bsmt Full Bath</th>\n",
              "      <th>Full Bath</th>\n",
              "      <th>Half Bath</th>\n",
              "      <th>Bedroom AbvGr</th>\n",
              "      <th>Kitchen AbvGr</th>\n",
              "      <th>Kitchen Qual</th>\n",
              "      <th>TotRms AbvGrd</th>\n",
              "      <th>Fireplaces</th>\n",
              "      <th>Garage Cars</th>\n",
              "      <th>Garage Area</th>\n",
              "      <th>Paved Drive</th>\n",
              "      <th>Wood Deck SF</th>\n",
              "      <th>Open Porch SF</th>\n",
              "      <th>Mo Sold</th>\n",
              "      <th>Yr Sold</th>\n",
              "      <th>Sale Type</th>\n",
              "      <th>Sale Condition</th>\n",
              "      <th>SalePrice</th>\n",
              "    </tr>\n",
              "  </thead>\n",
              "  <tbody>\n",
              "    <tr>\n",
              "      <th>142</th>\n",
              "      <td>2440</td>\n",
              "      <td>2873</td>\n",
              "      <td>20</td>\n",
              "      <td>RL</td>\n",
              "      <td>6000</td>\n",
              "      <td>Reg</td>\n",
              "      <td>Lvl</td>\n",
              "      <td>Inside</td>\n",
              "      <td>NAmes</td>\n",
              "      <td>1Fam</td>\n",
              "      <td>1Story</td>\n",
              "      <td>5</td>\n",
              "      <td>5</td>\n",
              "      <td>1968</td>\n",
              "      <td>1950</td>\n",
              "      <td>Gable</td>\n",
              "      <td>VinylSd</td>\n",
              "      <td>HdBoard</td>\n",
              "      <td>TA</td>\n",
              "      <td>CBlock</td>\n",
              "      <td>584.121141</td>\n",
              "      <td>489.704220</td>\n",
              "      <td>613.423023</td>\n",
              "      <td>Ex</td>\n",
              "      <td>Y</td>\n",
              "      <td>SBrkr</td>\n",
              "      <td>864</td>\n",
              "      <td>0</td>\n",
              "      <td>864</td>\n",
              "      <td>0.001998</td>\n",
              "      <td>1</td>\n",
              "      <td>0</td>\n",
              "      <td>3</td>\n",
              "      <td>1</td>\n",
              "      <td>TA</td>\n",
              "      <td>5</td>\n",
              "      <td>0</td>\n",
              "      <td>0.998002</td>\n",
              "      <td>186.716322</td>\n",
              "      <td>Y</td>\n",
              "      <td>0</td>\n",
              "      <td>0</td>\n",
              "      <td>7</td>\n",
              "      <td>2008</td>\n",
              "      <td>WD</td>\n",
              "      <td>Normal</td>\n",
              "      <td>80000</td>\n",
              "    </tr>\n",
              "    <tr>\n",
              "      <th>186</th>\n",
              "      <td>1535</td>\n",
              "      <td>632</td>\n",
              "      <td>20</td>\n",
              "      <td>RL</td>\n",
              "      <td>6000</td>\n",
              "      <td>Reg</td>\n",
              "      <td>Lvl</td>\n",
              "      <td>Inside</td>\n",
              "      <td>NAmes</td>\n",
              "      <td>1Fam</td>\n",
              "      <td>1Story</td>\n",
              "      <td>5</td>\n",
              "      <td>5</td>\n",
              "      <td>1954</td>\n",
              "      <td>1950</td>\n",
              "      <td>Gable</td>\n",
              "      <td>HdBoard</td>\n",
              "      <td>HdBoard</td>\n",
              "      <td>TA</td>\n",
              "      <td>CBlock</td>\n",
              "      <td>529.324684</td>\n",
              "      <td>788.774270</td>\n",
              "      <td>622.218158</td>\n",
              "      <td>TA</td>\n",
              "      <td>Y</td>\n",
              "      <td>SBrkr</td>\n",
              "      <td>864</td>\n",
              "      <td>0</td>\n",
              "      <td>864</td>\n",
              "      <td>0.001999</td>\n",
              "      <td>1</td>\n",
              "      <td>0</td>\n",
              "      <td>3</td>\n",
              "      <td>1</td>\n",
              "      <td>TA</td>\n",
              "      <td>5</td>\n",
              "      <td>0</td>\n",
              "      <td>0.998003</td>\n",
              "      <td>188.030387</td>\n",
              "      <td>Y</td>\n",
              "      <td>0</td>\n",
              "      <td>0</td>\n",
              "      <td>10</td>\n",
              "      <td>2006</td>\n",
              "      <td>WD</td>\n",
              "      <td>Normal</td>\n",
              "      <td>80000</td>\n",
              "    </tr>\n",
              "    <tr>\n",
              "      <th>224</th>\n",
              "      <td>3080</td>\n",
              "      <td>208</td>\n",
              "      <td>20</td>\n",
              "      <td>RL</td>\n",
              "      <td>6000</td>\n",
              "      <td>Reg</td>\n",
              "      <td>Lvl</td>\n",
              "      <td>Inside</td>\n",
              "      <td>OldTown</td>\n",
              "      <td>2fmCon</td>\n",
              "      <td>1Story</td>\n",
              "      <td>6</td>\n",
              "      <td>5</td>\n",
              "      <td>1950</td>\n",
              "      <td>1950</td>\n",
              "      <td>Gable</td>\n",
              "      <td>HdBoard</td>\n",
              "      <td>HdBoard</td>\n",
              "      <td>TA</td>\n",
              "      <td>BrkTil</td>\n",
              "      <td>952.978042</td>\n",
              "      <td>485.227123</td>\n",
              "      <td>599.160743</td>\n",
              "      <td>TA</td>\n",
              "      <td>Y</td>\n",
              "      <td>SBrkr</td>\n",
              "      <td>1068</td>\n",
              "      <td>0</td>\n",
              "      <td>987</td>\n",
              "      <td>1.001999</td>\n",
              "      <td>1</td>\n",
              "      <td>0</td>\n",
              "      <td>3</td>\n",
              "      <td>1</td>\n",
              "      <td>TA</td>\n",
              "      <td>7</td>\n",
              "      <td>0</td>\n",
              "      <td>1.998003</td>\n",
              "      <td>372.015364</td>\n",
              "      <td>Y</td>\n",
              "      <td>0</td>\n",
              "      <td>0</td>\n",
              "      <td>6</td>\n",
              "      <td>2006</td>\n",
              "      <td>WD</td>\n",
              "      <td>Normal</td>\n",
              "      <td>80000</td>\n",
              "    </tr>\n",
              "    <tr>\n",
              "      <th>232</th>\n",
              "      <td>3546</td>\n",
              "      <td>2284</td>\n",
              "      <td>20</td>\n",
              "      <td>RL</td>\n",
              "      <td>6000</td>\n",
              "      <td>Reg</td>\n",
              "      <td>Lvl</td>\n",
              "      <td>Inside</td>\n",
              "      <td>SawyerW</td>\n",
              "      <td>1Fam</td>\n",
              "      <td>1Story</td>\n",
              "      <td>5</td>\n",
              "      <td>5</td>\n",
              "      <td>1994</td>\n",
              "      <td>1950</td>\n",
              "      <td>Gable</td>\n",
              "      <td>MetalSd</td>\n",
              "      <td>MetalSd</td>\n",
              "      <td>TA</td>\n",
              "      <td>PConc</td>\n",
              "      <td>521.006607</td>\n",
              "      <td>201.920543</td>\n",
              "      <td>609.227780</td>\n",
              "      <td>Ex</td>\n",
              "      <td>Y</td>\n",
              "      <td>SBrkr</td>\n",
              "      <td>1040</td>\n",
              "      <td>0</td>\n",
              "      <td>1040</td>\n",
              "      <td>0.002000</td>\n",
              "      <td>1</td>\n",
              "      <td>0</td>\n",
              "      <td>3</td>\n",
              "      <td>1</td>\n",
              "      <td>TA</td>\n",
              "      <td>7</td>\n",
              "      <td>0</td>\n",
              "      <td>0.998001</td>\n",
              "      <td>766.403528</td>\n",
              "      <td>Y</td>\n",
              "      <td>0</td>\n",
              "      <td>0</td>\n",
              "      <td>7</td>\n",
              "      <td>2008</td>\n",
              "      <td>WD</td>\n",
              "      <td>Normal</td>\n",
              "      <td>80000</td>\n",
              "    </tr>\n",
              "    <tr>\n",
              "      <th>256</th>\n",
              "      <td>4489</td>\n",
              "      <td>2284</td>\n",
              "      <td>70</td>\n",
              "      <td>RL</td>\n",
              "      <td>10237</td>\n",
              "      <td>Reg</td>\n",
              "      <td>Lvl</td>\n",
              "      <td>Inside</td>\n",
              "      <td>Crawfor</td>\n",
              "      <td>1Fam</td>\n",
              "      <td>2Story</td>\n",
              "      <td>6</td>\n",
              "      <td>5</td>\n",
              "      <td>1958</td>\n",
              "      <td>1950</td>\n",
              "      <td>Gable</td>\n",
              "      <td>MetalSd</td>\n",
              "      <td>HdBoard</td>\n",
              "      <td>TA</td>\n",
              "      <td>BrkTil</td>\n",
              "      <td>0.001145</td>\n",
              "      <td>491.547051</td>\n",
              "      <td>1258.037578</td>\n",
              "      <td>Ex</td>\n",
              "      <td>Y</td>\n",
              "      <td>SBrkr</td>\n",
              "      <td>1068</td>\n",
              "      <td>0</td>\n",
              "      <td>1040</td>\n",
              "      <td>0.001995</td>\n",
              "      <td>2</td>\n",
              "      <td>0</td>\n",
              "      <td>3</td>\n",
              "      <td>1</td>\n",
              "      <td>TA</td>\n",
              "      <td>7</td>\n",
              "      <td>1</td>\n",
              "      <td>0.998008</td>\n",
              "      <td>193.913123</td>\n",
              "      <td>Y</td>\n",
              "      <td>0</td>\n",
              "      <td>0</td>\n",
              "      <td>7</td>\n",
              "      <td>2006</td>\n",
              "      <td>WD</td>\n",
              "      <td>Normal</td>\n",
              "      <td>80000</td>\n",
              "    </tr>\n",
              "  </tbody>\n",
              "</table>\n",
              "</div>"
            ],
            "text/plain": [
              "     index  Order  MS SubClass  ... Sale Type  Sale Condition SalePrice\n",
              "142   2440   2873           20  ...       WD           Normal     80000\n",
              "186   1535    632           20  ...       WD           Normal     80000\n",
              "224   3080    208           20  ...       WD           Normal     80000\n",
              "232   3546   2284           20  ...       WD           Normal     80000\n",
              "256   4489   2284           70  ...       WD           Normal     80000\n",
              "\n",
              "[5 rows x 47 columns]"
            ]
          },
          "metadata": {
            "tags": []
          },
          "execution_count": 74
        }
      ]
    },
    {
      "cell_type": "code",
      "metadata": {
        "id": "59ir2y5WAfnS"
      },
      "source": [
        "# 数値計算に必要なライブラリ\r\n",
        "import numpy as np\r\n",
        "# グラフを描画するパッケージ\r\n",
        "import matplotlib.pyplot as plt\r\n",
        "# 機械学習ライブラリscikit-learnの線形モデル\r\n",
        "from sklearn import linear_model"
      ],
      "execution_count": 75,
      "outputs": []
    },
    {
      "cell_type": "code",
      "metadata": {
        "id": "R4042fRwGNeG"
      },
      "source": [
        "# 学習データ準備\r\n",
        "x = train_data[['Lot Area', 'Bsmt Full Bath']]\r\n",
        "y =  train_data[['SalePrice']]\r\n",
        "x1 = train_data[['Lot Area']]\r\n",
        "x2 = train_data[['Bsmt Full Bath']]"
      ],
      "execution_count": 83,
      "outputs": []
    },
    {
      "cell_type": "code",
      "metadata": {
        "colab": {
          "base_uri": "https://localhost:8080/",
          "height": 319
        },
        "id": "xDhMEqp_Gpud",
        "outputId": "9d8e635a-789e-4158-ae4b-271e5536cc8c"
      },
      "source": [
        "# 可視化\r\n",
        "from mpl_toolkits.mplot3d import Axes3D  #3Dplot\r\n",
        "import matplotlib.pyplot as plt\r\n",
        "import seaborn as sns\r\n",
        "\r\n",
        "fig=plt.figure()\r\n",
        "ax=Axes3D(fig)\r\n",
        "\r\n",
        "ax.scatter3D(x1, x2, y)\r\n",
        "ax.set_xlabel(\"x1\")\r\n",
        "ax.set_ylabel(\"x2\")\r\n",
        "ax.set_zlabel(\"y\")\r\n",
        "\r\n",
        "plt.show()"
      ],
      "execution_count": 85,
      "outputs": [
        {
          "output_type": "display_data",
          "data": {
            "image/png": "[encoded data removed]",
            "text/plain": [
              "<Figure size 432x288 with 1 Axes>"
            ]
          },
          "metadata": {
            "tags": [],
            "needs_background": "light"
          }
        }
      ]
    },
    {
      "cell_type": "code",
      "metadata": {
        "colab": {
          "base_uri": "https://localhost:8080/"
        },
        "id": "uH2Io1fOGqSs",
        "outputId": "e28aa3c9-ef12-47e6-edbf-9a58864af4fa"
      },
      "source": [
        "from sklearn.linear_model import LinearRegression\r\n",
        "\r\n",
        "model_lr = LinearRegression()\r\n",
        "model_lr.fit(x, y)"
      ],
      "execution_count": 86,
      "outputs": [
        {
          "output_type": "execute_result",
          "data": {
            "text/plain": [
              "LinearRegression(copy_X=True, fit_intercept=True, n_jobs=None, normalize=False)"
            ]
          },
          "metadata": {
            "tags": []
          },
          "execution_count": 86
        }
      ]
    },
    {
      "cell_type": "code",
      "metadata": {
        "colab": {
          "base_uri": "https://localhost:8080/"
        },
        "id": "hv1Do_xrJZ10",
        "outputId": "49c4d273-8b23-4d0e-d5db-8d52019e26c4"
      },
      "source": [
        "print(model_lr.coef_)\r\n",
        "print(model_lr.intercept_)\r\n",
        "print(model_lr.score(x, y))"
      ],
      "execution_count": 87,
      "outputs": [
        {
          "output_type": "stream",
          "text": [
            "[[9.46302799e-01 6.78385462e+03]]\n",
            "[140516.23076432]\n",
            "0.016959099535203914\n"
          ],
          "name": "stdout"
        }
      ]
    },
    {
      "cell_type": "code",
      "metadata": {
        "id": "ggafknCXJcQi"
      },
      "source": [
        ""
      ],
      "execution_count": null,
      "outputs": []
    }
  ]
}